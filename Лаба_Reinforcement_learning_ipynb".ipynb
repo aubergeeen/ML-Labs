{
  "cells": [
    {
      "cell_type": "markdown",
      "metadata": {
        "id": "m2s4kN_QPQVe"
      },
      "source": [
        "# Введение в обучение с подкреплением  (Reinforcement Learning)\n",
        "\n",
        "\n",
        "<center>\n",
        "<img src=\"https://raw.githubusercontent.com/jcformanek/jcformanek.github.io/master/docs/assets/images/rl_in_space.png\" width=\"100%\" />\n",
        "</center>\n",
        "\n",
        "\n",
        "\n",
        "**Введение**\n",
        "\n",
        "На этом семинаре мы изучим обучение с подкреплением - тип машинного обучения без учителя, где агент учится выбирать действия, которые приводят к максимальному вознаграждению в долгосрочной перспективе. Обучение с подкреплением используется в широком спектре сложных задач, в том числе - в видеоиграх, например, [Atari](https://www.deepmind.com/blog/agent57-outperforming-the-human-atari-benchmark), [StarCraft II](https://www.deepmind.com/blog/alphastar-mastering-the-real-time-strategy-game-starcraft-ii) и [Dota II](https://openai.com/five/).\n",
        "\n",
        "На семинаре изучим классическую среду - [CartPole](https://www.gymlibrary.ml/environments/classic_control/cart_pole/), где агент должен научиться балансировать шестом на тележке (см лекцию), используя несколько различных подходов RL. По пути вы познакомитесь с некоторыми из самых важных концепций и терминологии в RL.\n",
        "\n",
        "**Темы:**\n",
        "* Reinforcement Learning (RL, Обучение с подкреплением)\n",
        "* Random Policy Search (Случайный поиск политики)\n",
        "* Policy Gradient (Градиент политики)\n",
        "* Q-Learning\n",
        "\n",
        "\n",
        "**Что надо сделать для лучшего понимания:**\n",
        "\n",
        "* почитать про библиотеку [JAX](https://github.com/google/jax).\n",
        "* вспомнить нейроки.\n",
        "\n"
      ]
    },
    {
      "cell_type": "markdown",
      "metadata": {
        "id": "6EqhIg1odqg0"
      },
      "source": [
        "### Настраиваем среду"
      ]
    },
    {
      "cell_type": "code",
      "execution_count": 1,
      "metadata": {
        "id": "4boGA9rYdt9l"
      },
      "outputs": [],
      "source": [
        "# @title Установка необходимых пакетов (надо просто запустить!) { display-mode: \"form\" }\n",
        "# @markdown Может занять несколько минут\n",
        "%%capture\n",
        "!pip install jaxlib\n",
        "!pip install jax\n",
        "!pip install git+https://github.com/deepmind/dm-haiku\n",
        "!pip install gym==0.25\n",
        "!pip install gym[box2d]\n",
        "!pip install optax\n",
        "!pip install matplotlib\n",
        "!pip install chex\n",
        "!pip install gym[classic_control]"
      ]
    },
    {
      "cell_type": "code",
      "execution_count": 2,
      "metadata": {
        "id": "gwbqggmcRjMy"
      },
      "outputs": [],
      "source": [
        "# @title Импорт необходимых пакетов (просто запустите ячейку) { display-mode: \"form\" }\n",
        "%%capture\n",
        "import copy\n",
        "from shutil import rmtree # deleting directories\n",
        "import random\n",
        "import collections # useful data structures\n",
        "import numpy as np\n",
        "import gym # reinforcement learning environments\n",
        "from gym.wrappers import RecordVideo\n",
        "import jax\n",
        "import jax.numpy as jnp # jax numpy\n",
        "import haiku as hk # jax neural network library\n",
        "import optax # jax optimizer library\n",
        "import matplotlib.pyplot as plt # graph plotting library\n",
        "from IPython.display import HTML\n",
        "from base64 import b64encode\n",
        "import chex\n",
        "\n",
        "# Hide warnings\n",
        "import warnings\n",
        "warnings.filterwarnings('ignore')"
      ]
    },
    {
      "cell_type": "markdown",
      "metadata": {
        "id": "-ZUp8i37dFbU"
      },
      "source": [
        "## 1. Ключевые концепции обучения с подкреплением\n",
        "\n",
        "Обучение с подкреплением (RL) является подразделом машинного обучения (ML). В отличие от таких областей, как контролируемое обучение, где мы даем примеры ожидаемого поведения нашим моделям, RL фокусируется на *целеориентированном* обучении из взаимодействий методом проб и ошибок. Алгоритмы RL изучают, что делать (т. е. какие оптимальные действия предпринять) в среде, чтобы максимизировать некий сигнал вознаграждения. В таких условиях, как видеоигра, сигналом вознаграждения может быть счет игры, т. е. алгоритмы RL будут пытаться максимизировать счет в игре, выбирая лучшие действия.\n",
        "\n",
        "<center>\n",
        "<img src=\"https://pettingzoo.farama.org/_images/environments-demo.gif\" width=\"40%\" />\n",
        "</center>\n",
        "\n",
        "[*Image Source*](https://pettingzoo.farama.org/)\n",
        "\n",
        "Другими словами, в RL у нас есть **агент**, который воспринимает **наблюдение** $o_t$ текущего состояния $s_t$ **окружающей среды** и должен выбрать **действие** $a_t$ для выполнения.\n",
        "\n",
        "Затем окружающая среда переходит в новое состояние $s_{t+1}$ в ответ на действие агента, а также дает агенту скалярное вознаграждение $r_t$, чтобы указать, насколько хорошим или плохим было выбранное действие, учитывая состояние окружающей среды.\n",
        "\n",
        "Целью в RL является максимизация агентом суммы вознаграждения, которое он получает от окружающей среды с течением времени. Нижний индекс $t$ используется для указания номера временного шага, т. е. $s_0$ - это состояние окружающей среды на начальном временном шаге, а $a_{99}$ - это действие агента на $99-м$ временном шаге."
      ]
    },
    {
      "cell_type": "markdown",
      "metadata": {
        "id": "Ghgy69hFRjMz"
      },
      "source": [
        "### Среда - OpenAI Gym\n",
        "Как упоминалось выше, среда получает от агента действие $a_t$ и возвращает вознаграждение $r_t$ и наблюдение $o_t$.\n",
        "\n",
        "OpenAI разработал пакет для Python под названием **Gym**, который включает реализации популярных сред и простой интерфейс для взаимодействия агента RL. Чтобы использовать поддерживаемую [среду gym](https://www.gymlibrary.ml/), все, что вам нужно сделать, это передать имя среды в функцию  `gym.make(<environment_name>)`.\n",
        "\n",
        "В этом уроке мы будем использовать простую среду под названием **CartPole**. В CartPole задача агента — научиться балансировать на шесте как можно дольше, перемещая тележку *влево* или *вправо*.\n",
        "\n",
        "<img src=\"https://user-images.githubusercontent.com/10854026/32486103-f15f19de-c3a5-11e7-81de-0605df939497.gif\" width=\"50%\" />"
      ]
    },
    {
      "cell_type": "code",
      "execution_count": 3,
      "metadata": {
        "id": "WfxzajMYRjMz"
      },
      "outputs": [],
      "source": [
        "# Create the environment\n",
        "env_name = \"CartPole-v0\"\n",
        "env = gym.make(env_name)"
      ]
    },
    {
      "cell_type": "markdown",
      "metadata": {
        "id": "y_BbftaJj3zu"
      },
      "source": [
        "### Состояние (States) и Наблюдение (Observations) - $s_t$ and $o_t$\n",
        "\n",
        "В RL агент воспринимает наблюдение за состоянием среды. В некоторых настройках наблюдение может включать всю информацию, лежащую в основе состояния среды. Такая среда называется **полностью наблюдаемой**. В других настройках агент может получать только частичную информацию о состоянии среды в своем наблюдении. Такая среда называется **частично наблюдаемой**.\n",
        "\n",
        "В оставшейся части этого руководства мы будем предполагать, что среда полностью наблюдаема, и поэтому будем использовать состояние $s_t$ и наблюдение $o_t$ взаимозаменяемо. В Gym мы получаем начальное наблюдение из среды, вызывая функцию `env.reset()`."
      ]
    },
    {
      "cell_type": "code",
      "execution_count": 4,
      "metadata": {
        "id": "HdS8nqOgRjM0",
        "colab": {
          "base_uri": "https://localhost:8080/"
        },
        "outputId": "8b58124c-fafe-4ea8-de67-68e76862ef3a"
      },
      "outputs": [
        {
          "output_type": "stream",
          "name": "stdout",
          "text": [
            "Initial State:: [ 0.04025904 -0.02953483 -0.01559168 -0.03465763]\n",
            "Environment Obs Space Shape: (4,)\n"
          ]
        }
      ],
      "source": [
        "# Reset the environment\n",
        "s_0 = env.reset()\n",
        "print(\"Initial State::\", s_0)\n",
        "\n",
        "# Get environment obs space\n",
        "obs_shape = env.observation_space.shape\n",
        "print(\"Environment Obs Space Shape:\", obs_shape)"
      ]
    },
    {
      "cell_type": "markdown",
      "metadata": {
        "id": "pUNX6mbotABo"
      },
      "source": [
        "В CartPole состояние окружающей среды представлено четырьмя числами: *угловое положение полюса, угловая скорость полюса, положение тележки, скорость тележки*."
      ]
    },
    {
      "cell_type": "markdown",
      "metadata": {
        "id": "hL1Nkgy7nUfn"
      },
      "source": [
        "### Действия (Actions) - $a_t$\n",
        "\n",
        "В RL действия обычно либо **дискретные**, либо **непрерывные**. Непрерывные действия задаются вектором действительных чисел. Дискретные действия задаются целочисленным значением. В средах, где мы можем подсчитать конечный набор действий, мы обычно используем дискретные действия.\n",
        "\n",
        "В CartPole есть только два действия: *влево* и *вправо*. Таким образом, действия могут быть представлены целыми числами $0$ и $1$. В gym мы можем легко получить список возможных действий следующим образом:"
      ]
    },
    {
      "cell_type": "code",
      "execution_count": 5,
      "metadata": {
        "id": "uOLZqU_LpIXh",
        "colab": {
          "base_uri": "https://localhost:8080/"
        },
        "outputId": "9f90e5c2-f253-44da-c3e1-f6fd5e92891a"
      },
      "outputs": [
        {
          "output_type": "stream",
          "name": "stdout",
          "text": [
            "Environment action space: Discrete(2)\n",
            "Number of actions: 2\n"
          ]
        }
      ],
      "source": [
        "# Get action space - e.g. discrete or continuous\n",
        "print(f\"Environment action space: {env.action_space}\")\n",
        "\n",
        "# Get num actions\n",
        "num_actions = env.action_space.n\n",
        "print(f\"Number of actions: {num_actions}\")"
      ]
    },
    {
      "cell_type": "markdown",
      "metadata": {
        "id": "tRsflxbDpoPm"
      },
      "source": [
        "### Политика агента (The Agent's Policy) - $\\pi$\n",
        "\n",
        "В RL агент выбирает действия на основе полученных наблюдений. Мы можем представить процесс выбора действия агента как функцию, которая принимает наблюдение в качестве входных данных и возвращает действие в качестве выходных данных. В RL мы обычно называем эту функцию **политикой** агента и обозначаем ее $\\pi(s_t)=a_t$. В RL мы обычно параметризуем нашу политику каким-либо образом, а затем пытаемся узнать оптимальные параметры. Параметризованная политика обычно обозначается $\\pi_\\theta$, где $\\theta$ — это набор параметров.\n",
        "\n",
        "**Упражнение 1:** В качестве упражнения давайте реализуем простую политику, которая принимает набор параметров и наблюдение в качестве входных данных и возвращает действие. Предположим, что наблюдение — это вектор из четырех чисел, как наблюдение CartPole, и что действие должно быть либо $0$, либо $1$. Предположим также, что параметры — это вектор из четырех действительных чисел. Тогда действие должно быть вычислено следующим образом.\n",
        "\n",
        "\n",
        "1. Вычислите [скалярное произведение векторов](https://www.mathsisfun.com/algebra/vectors-dot-product.html) между наблюдением и параметрами.\n",
        "2. Если результат больше нуля, верните действие $1$.\n",
        "3. В противном случае верните действие $0$.\n",
        "\n",
        "В этом упражнении мы постараемся использовать JAX как можно чаще. Поэтому постарайтесь использовать методы JAX для этой задачи. Ниже приведены некоторые полезные методы, которые вы можете использовать. Вам нужно будет завершить код в блоке ниже, заменив `...` правильным кодом.\n",
        "\n",
        "\n",
        "**Полезные методы:**\n",
        "* Вычислите скалярное произведение векторов с помощью `jax.numpy.dot` ([docs](https://jax.readthedocs.io/en/latest/_autosummary/jax.numpy.dot.html)).\n",
        "\n",
        "* Когда вы пытаетесь условно присвоить значение $0$ или $1$ действию на основе результата скалярного произведения, вам следует использовать `jax.lax.select` ([docs](https://jax.readthedocs.io/en/latest/_autosummary/jax.lax.select.html#jax.lax.select)).\n",
        "\n",
        "Метод `jax.lax.select` принимает три аргумента в качестве входных данных. Первый аргумент — это оператор, который будет оцениваться как `True` или `False`.\n",
        "\n",
        "Если оператор равен `True`, то `jax.lax.select` вернет свой второй аргумент.\n",
        "\n",
        "Если оператор имеет значение `False`, `jax.lax.select` вернет свой третий аргумент.\n",
        "\n"
      ]
    },
    {
      "cell_type": "code",
      "execution_count": 7,
      "metadata": {
        "id": "KSGCd7XB1z8k"
      },
      "outputs": [],
      "source": [
        "def linear_policy(params, obs):\n",
        "  \"\"\"A simple linear policy\n",
        "\n",
        "  Args:\n",
        "    params: a vector of four real-numbers that give the parameters of the policy\n",
        "    obs: a vector of four real-numbers that give the agent's observation\n",
        "\n",
        "  Returns:\n",
        "    a discrete action given by a 0 or 1\n",
        "  \"\"\"\n",
        "  # YOUR CODE\n",
        "  dot_product_result = jax.numpy.dot(params, obs)\n",
        "\n",
        "  action = jax.lax.select(\n",
        "      dot_product_result > 0, # boolean statement goes here\n",
        "      1, # result when the statement is True goes here\n",
        "      0, # result when the statement is False goes here\n",
        "  )\n",
        "  # END YOUR CODE\n",
        "  return action"
      ]
    },
    {
      "cell_type": "code",
      "execution_count": 8,
      "metadata": {
        "id": "9EnnBvceb1f3",
        "colab": {
          "base_uri": "https://localhost:8080/"
        },
        "outputId": "01841077-7a48-4b4d-86b4-899f0d40403c"
      },
      "outputs": [
        {
          "output_type": "stream",
          "name": "stdout",
          "text": [
            "Your function is correct!\n"
          ]
        }
      ],
      "source": [
        "# @title Проверка упр 1  { display-mode: \"form\" }\n",
        "\n",
        "def check_linear_policy(linear_policy):\n",
        "  fixed_obs = jnp.array([1,1,2,4])\n",
        "\n",
        "  # check case1 - negative dot product.\n",
        "  # weights\n",
        "  params1 = jnp.array([1,1,1,1])\n",
        "  params2 = jnp.array([-1,-1,-1,-1])\n",
        "\n",
        "  hint1 = f\"Неправильный ответ, ваша линейная политика неверна. Действие при \\\n",
        "obs={fixed_obs} и params={params1} должно быть 1\"\n",
        "\n",
        "  hint2 = f\"Неправильный ответ, ваша линейная политика неверна. Действие при \\\n",
        "obs={fixed_obs} и params={params2} должно быть 0\"\n",
        "\n",
        "  hint = None\n",
        "  if linear_policy(params1, fixed_obs) != 1:\n",
        "    hint = hint1\n",
        "  elif linear_policy(params2, fixed_obs) != 0:\n",
        "    hint = hint2\n",
        "\n",
        "  if hint is not None:\n",
        "    print(hint)\n",
        "  else:\n",
        "    print(\"Your function is correct!\")\n",
        "\n",
        "try:\n",
        "  check_linear_policy(linear_policy)\n",
        "except Exception as e:\n",
        "    print(\"An Error Occured: {}\".format(e))"
      ]
    },
    {
      "cell_type": "markdown",
      "metadata": {
        "id": "PkuvT-jf6Ieh"
      },
      "source": [
        "### Функция перехода среды - $P$\n",
        "\n",
        "Теперь, когда у нас есть политика, мы можем передавать действия от агента среде. Затем среда перейдет в новое состояние в ответ на действие агента.\n",
        "\n",
        "В RL мы моделируем этот процесс с помощью **функции перехода состояния** $P$, которая принимает текущее состояние $s_t$ и действие $a_t$ в качестве входных данных и возвращает следующее состояние $s_{t+1}$ в качестве выходных данных:\n",
        "\n",
        "<center>\n",
        "$s_{t+1}=P(s_t, a_t)$\n",
        "</center>\n",
        "\n",
        "В gym мы можем передавать действия среде, вызывая функцию `env.step(<action>)`. Затем функция вернет четыре значения:\n",
        "- **следующее наблюдение**\n",
        "- **награду** за выполненное действие\n",
        "- логический флаг, указывающий, **завершена** игра\n",
        "- некоторую **дополнительную** информацию."
      ]
    },
    {
      "cell_type": "code",
      "execution_count": 9,
      "metadata": {
        "id": "hh0j9-Tk7olb",
        "colab": {
          "base_uri": "https://localhost:8080/"
        },
        "outputId": "e7de175f-1a7e-472d-ecbb-95e6261f1856"
      },
      "outputs": [
        {
          "output_type": "stream",
          "name": "stdout",
          "text": [
            "Observation: [-0.03831296 -0.04391084 -0.01749862  0.02712322]\n",
            "Action: 1\n",
            "Next observation: [-0.03919118  0.15145762 -0.01695615 -0.27102894]\n",
            "Reward: 1.0\n",
            "Game is done: False\n"
          ]
        }
      ],
      "source": [
        "# Get the initial obs by resetting the env\n",
        "initial_obs = env.reset()\n",
        "\n",
        "# Randomly sample actions from env\n",
        "action = env.action_space.sample()\n",
        "\n",
        "# Step the environment\n",
        "next_obs, reward, done, info = env.step(action)\n",
        "\n",
        "print(\"Observation:\", initial_obs)\n",
        "print(\"Action:\", action)\n",
        "print(\"Next observation:\", next_obs)\n",
        "print(\"Reward:\", reward)\n",
        "print(\"Game is done:\", done)"
      ]
    },
    {
      "cell_type": "markdown",
      "metadata": {
        "id": "bX9iZtu48UYn"
      },
      "source": [
        "### Возврат эпизода - $R_t$\n",
        "\n",
        "В RL мы обычно разбиваем взаимодействие агента с окружающей средой на **эпизоды**. Сумма всех вознаграждений, собранных во время эпизода, - это то, что мы называем **возвратом** эпизода - $R_t$:\n",
        "\n",
        "<center>\n",
        "$R_t=\\sum_{t=0}^Tr_t$,\n",
        "</center>\n",
        "\n",
        "где $r_t$ - это вознаграждение в момент времени $t$, а $T$ - это последний временной шаг. Цель в RL - выбрать действия, которые максимизируют этот ожидаемый будущий возврат $R_t$."
      ]
    },
    {
      "cell_type": "markdown",
      "metadata": {
        "id": "y6KZA1Nq9p47"
      },
      "source": [
        "### Цикл агент-среда\n",
        "Теперь, когда мы знаем, что такое политика, и знаем, как пошагово проходить среду, давайте закроем цикл агент-среда.\n",
        "\n",
        "**Упражнение 2:** Напишите функцию, которая запускает один эпизод CartPole, последовательно выбирая действия и пошагово проходя среду. Вам следует использовать линейную политику, которую мы определили ранее, для выбора действий. Функция должна отслеживать полученное вознаграждение и выводить возврат в конце эпизода.\n",
        "\n",
        "В CartPole агент получает вознаграждение `1` за каждый временной шаг, когда шест все еще стоит вертикально. Если шест падает, игра заканчивается, и агент больше не получает вознаграждения. Игра также заканчивается после `200` временных шагов, поэтому максимальное вознаграждение, которое может получить агент, составляет `200`."
      ]
    },
    {
      "cell_type": "code",
      "execution_count": 10,
      "metadata": {
        "id": "Buy0X7mi-gHP"
      },
      "outputs": [],
      "source": [
        "def run_episode(env):\n",
        "  episode_return = 0 # counter to keep track of rewards\n",
        "  done = False # initially set to False\n",
        "  params = jnp.array([1,-2,2,-1]) # fixed policy parameters\n",
        "\n",
        "  ## YOUR CODE\n",
        "\n",
        "  obs = env.reset() # TODO: get the initial obs from the env\n",
        "\n",
        "  while not done: # loop until episode is done\n",
        "\n",
        "    action = linear_policy(params, obs) # TODO: compute action using linear policy\n",
        "    action = np.array(action) # We need to the convert the action from the policy to a np.array\n",
        "\n",
        "    obs, reward, done, info = env.step(action) # TODO: step the environment\n",
        "\n",
        "    episode_return += reward  # TODO: add reward to episode return\n",
        "\n",
        "  return episode_return"
      ]
    },
    {
      "cell_type": "code",
      "execution_count": 11,
      "metadata": {
        "id": "bA2Orj9PVbKO",
        "colab": {
          "base_uri": "https://localhost:8080/"
        },
        "outputId": "39837948-00a4-403a-8327-4a012a60ad5f"
      },
      "outputs": [
        {
          "output_type": "stream",
          "name": "stdout",
          "text": [
            "Looks correct!\n"
          ]
        }
      ],
      "source": [
        "# @title Проверка упр 2 (run me) { display-mode: \"form\" }\n",
        "\n",
        "try:\n",
        "  env.seed(42)\n",
        "  if run_episode(env) == 31:\n",
        "    print(\"Looks correct!\")\n",
        "  else:\n",
        "    print(\"Looks like your implementation might be wrong.\")\n",
        "except Exception as e:\n",
        "    print(\"An Error Occured: {}\".format(e))"
      ]
    },
    {
      "cell_type": "markdown",
      "metadata": {
        "id": "fUGdzHxJnZGl"
      },
      "source": [
        "В CartPole среда считается решенной, когда агент может надежно достичь возврата эпизода 500. Как вы можете видеть, наша текущая политика далека от оптимальной.\n",
        "\n",
        "Один из способов найти оптимальную политику — это случайным образом пробовать разные политики, пока не найдем оптимальную. Эта стратегия называется случайным поиском политики и может быть на удивление эффективной.\n",
        "\n",
        "Прежде чем мы реализуем случайный поиск политики, давайте быстро рассмотрим общий цикл обучения RL, который мы будем использовать для реализации алгоритмов в оставшейся части этого руководства.\n",
        "\n",
        "### Цикл обучения RL общего назначения\n",
        "Мы реализовали для вас цикл обучения RL общего назначения. Цикл обучения принимает несколько аргументов в качестве входных данных, но три наиболее важных для понимания — это `agent_select_action_func`, `agent_learn_func` и `agent_memory`.\n",
        "\n",
        "* `agent_select_action_func` — это функция, которую мы определяем и можем передать в цикл обучения. Функция принимает наблюдение и набор `agent_params` в качестве входных данных и должна возвращать действие.\n",
        "* `agent_learn_func` — это еще один метод, который мы определяем и передаем в цикл обучения. Он должен принимать параметры агента и некоторые «воспоминания» в качестве входных данных, а затем обновлять и возвращать агентам новые параметры.\n",
        "* `agent_memory` — это модуль общего назначения, который мы определяем, который может хранить некоторую релевантную информацию об опыте агента в среде, которую можно использовать в `agent_learn_func`.\n",
        "\n",
        "Ниже приведена функция цикла обучения, которую мы реализовали для вас. Вы можете просмотреть код и попытаться понять его, но это не обязательно. Таким образом, мы скрыли код по умолчанию, просто убедитесь, что вы запустили ячейку кода, прежде чем двигаться дальше, потому что цикл обучения далее в коде."
      ]
    },
    {
      "cell_type": "code",
      "execution_count": 12,
      "metadata": {
        "id": "ZWBwz3zMRjM0"
      },
      "outputs": [],
      "source": [
        "#@title Training loop (run me) { display-mode: \"form\" }\n",
        "\n",
        "# NamedTuple to store transitions\n",
        "Transition = collections.namedtuple(\"Transition\", [\"obs\", \"action\", \"reward\", \"next_obs\", \"done\"])\n",
        "\n",
        "# Training Loop\n",
        "def run_training_loop(env_name, agent_params, agent_select_action_func,\n",
        "    agent_actor_state=None, agent_learn_func=None, agent_learner_state=None,\n",
        "    agent_memory=None, num_episodes=1000, evaluator_period=100,\n",
        "    evaluation_episodes=8, learn_steps_per_episode=1,\n",
        "    train_every_timestep=False, video_subdir=\"\",):\n",
        "    \"\"\"\n",
        "    This function runs several episodes in an environment and periodically does\n",
        "    some agent learning and evaluation.\n",
        "\n",
        "    Args:\n",
        "        env: a gym environment.\n",
        "        agent_params: an object to store parameters that the agent uses.\n",
        "        agent_select_func: a function that does action selection for the agent.\n",
        "        agent_actor_state (optional): an object that stores the internal state\n",
        "            of the agents action selection function.\n",
        "        agent_learn_func (optional): a function that does some learning for the\n",
        "            agent by updating the agent parameters.\n",
        "        agent_learn_state (optional): an object that stores the internal state\n",
        "            of the agent learn function.\n",
        "        agent_memory (optional): an object for storing an retrieving historical\n",
        "            experience.\n",
        "        num_episodes: how many episodes to run.\n",
        "        evaluator_period: how often to run evaluation.\n",
        "        evaluation_episodes: how many evaluation episodes to run.\n",
        "        train_every_timestep: whether to train every timestep rather than at the end\n",
        "            of the episode.\n",
        "        video_subdir: subdirectory to store epsiode recordings.\n",
        "\n",
        "    Returns:\n",
        "        episode_returns: list of all the episode returns.\n",
        "        evaluator_episode_returns: list of all the evaluator episode returns.\n",
        "    \"\"\"\n",
        "\n",
        "    # Setup Cartpole environment and recorder\n",
        "    env = gym.make(env_name, render_mode=\"rgb_array\") # training environment\n",
        "    eval_env = gym.make(env_name, render_mode=\"rgb_array\") # evaluation environment\n",
        "\n",
        "    # Video dir\n",
        "    video_dir = \"./video\"+\"/\"+video_subdir\n",
        "\n",
        "    # Clear video dir\n",
        "    try:\n",
        "      rmtree(video_dir)\n",
        "    except:\n",
        "      pass\n",
        "\n",
        "    # Wrap in recorder\n",
        "    env = RecordVideo(env, video_dir+\"/train\", episode_trigger=lambda x: (x % evaluator_period) == 0)\n",
        "    eval_env = RecordVideo(eval_env, video_dir+\"/eval\", episode_trigger=lambda x: (x % evaluation_episodes) == 0)\n",
        "\n",
        "    # JAX random number generator\n",
        "    rng = hk.PRNGSequence(jax.random.PRNGKey(0))\n",
        "    env.seed(0) # seed environment for reproducability\n",
        "    random.seed(0)\n",
        "\n",
        "    episode_returns = [] # List to store history of episode returns.\n",
        "    evaluator_episode_returns = [] # List to store history of evaluator returns.\n",
        "    timesteps = 0\n",
        "    for episode in range(num_episodes):\n",
        "\n",
        "        # Reset environment.\n",
        "        obs = env.reset()\n",
        "        episode_return = 0\n",
        "        done = False\n",
        "\n",
        "        while not done:\n",
        "\n",
        "            # Agent select action.\n",
        "            action, agent_actor_state = agent_select_action_func(\n",
        "                                            next(rng),\n",
        "                                            agent_params,\n",
        "                                            agent_actor_state,\n",
        "                                            np.array(obs)\n",
        "                                        )\n",
        "\n",
        "            # Step environment.\n",
        "            next_obs, reward, done, _ = env.step(int(action))\n",
        "\n",
        "            # Pack into transition.\n",
        "            transition = Transition(obs, action, reward, next_obs, done)\n",
        "\n",
        "            # Add transition to memory.\n",
        "            if agent_memory: # check if agent has memory\n",
        "              agent_memory.push(transition)\n",
        "\n",
        "            # Add reward to episode return.\n",
        "            episode_return += reward\n",
        "\n",
        "            # Set obs to next obs before next environment step. CRITICAL!!!\n",
        "            obs = next_obs\n",
        "\n",
        "            # Increment timestep counter\n",
        "            timesteps += 1\n",
        "\n",
        "            # Maybe learn every timestep\n",
        "            if train_every_timestep and (timesteps % 4 == 0) and agent_memory and agent_memory.is_ready(): # Make sure memory is ready\n",
        "                # First sample memory and then pass the result to the learn function\n",
        "                memory = agent_memory.sample()\n",
        "                agent_params, agent_learner_state = agent_learn_func(\n",
        "                                                        next(rng),\n",
        "                                                        agent_params,\n",
        "                                                        agent_learner_state,\n",
        "                                                        memory\n",
        "                                                    )\n",
        "\n",
        "        episode_returns.append(episode_return)\n",
        "\n",
        "        # At the end of every episode we do a learn step.\n",
        "        if agent_memory and agent_memory.is_ready(): # Make sure memory is ready\n",
        "\n",
        "            for _ in range(learn_steps_per_episode):\n",
        "                # First sample memory and then pass the result to the learn function\n",
        "                memory = agent_memory.sample()\n",
        "                agent_params, agent_learner_state = agent_learn_func(\n",
        "                                                        next(rng),\n",
        "                                                        agent_params,\n",
        "                                                        agent_learner_state,\n",
        "                                                        memory\n",
        "                                                    )\n",
        "\n",
        "        if (episode % evaluator_period) == 0: # Do evaluation\n",
        "\n",
        "            evaluator_episode_return = 0\n",
        "            for eval_episode in range(evaluation_episodes):\n",
        "                obs = eval_env.reset()\n",
        "                done = False\n",
        "                while not done:\n",
        "                    action, _ = agent_select_action_func(\n",
        "                                    next(rng),\n",
        "                                    agent_params,\n",
        "                                    agent_actor_state,\n",
        "                                    np.array(obs),\n",
        "                                    evaluation=True\n",
        "                                )\n",
        "\n",
        "                    obs, reward, done, _ = eval_env.step(int(action))\n",
        "\n",
        "                    evaluator_episode_return += reward\n",
        "\n",
        "            evaluator_episode_return /= evaluation_episodes\n",
        "\n",
        "            evaluator_episode_returns.append(evaluator_episode_return)\n",
        "\n",
        "            logs = [\n",
        "                    f\"Episode: {episode}\",\n",
        "                    f\"Episode Return: {episode_return}\",\n",
        "                    f\"Average Episode Return: {np.mean(episode_returns[-20:])}\",\n",
        "                    f\"Evaluator Episode Return: {evaluator_episode_return}\"\n",
        "            ]\n",
        "\n",
        "            print(*logs, sep=\"\\t\") # Print the logs\n",
        "\n",
        "    env.close()\n",
        "    eval_env.close()\n",
        "\n",
        "    return episode_returns, evaluator_episode_returns"
      ]
    },
    {
      "cell_type": "markdown",
      "metadata": {
        "id": "CTPlIq4oDBPY"
      },
      "source": [
        "##2. Случайный поиск политики (RPS)\n",
        "В разделе 1 мы использовали фиксированный набор параметров для нашей политики. То есть мы не изучали параметры $\\pi$ $\\theta$, мы просто сохранили их фиксированными ( `params = [1,-2,2,-1]`).\n",
        "\n",
        "Теперь мы реализуем случайный поиск политики (RPS), который представляет собой алгоритм, который случайным образом пробует различные параметры политики и отслеживает лучшие параметры, найденные на данный момент. Мы скажем, что параметры политики $\\theta_A$ лучше параметров $\\theta_B$, если средний возврат эпизода, достигнутый за последние 20 эпизодов политикой с параметрами $\\theta_A$, больше, чем у политики с параметрами $\\theta_B$.\n",
        "\n",
        "Чтобы отслеживать «текущие» параметры, а также «лучшие» параметры, мы будем использовать [NamedTuple](https://www.geeksforgeeks.org/namedtuple-in-python/)."
      ]
    },
    {
      "cell_type": "code",
      "execution_count": 13,
      "metadata": {
        "id": "1DcaC-PQRjM1",
        "colab": {
          "base_uri": "https://localhost:8080/"
        },
        "outputId": "f2768554-dff1-40ad-a7d7-9ccb1a530c86"
      },
      "outputs": [
        {
          "output_type": "stream",
          "name": "stdout",
          "text": [
            "Best params: [0. 0. 0. 0.]\n",
            "Current params: [-1. -1. -1. -1.]\n"
          ]
        }
      ],
      "source": [
        "# Parameter container for Random Policy Search\n",
        "RandomPolicySearchParams = collections.namedtuple(\"RandomPolicySearchParams\", [\"current\", \"best\"])\n",
        "\n",
        "# TEST: store two different sets of parameters\n",
        "current_params = np.ones(obs_shape) * -1\n",
        "best_params = np.zeros(obs_shape)\n",
        "rps_params = RandomPolicySearchParams(current_params, best_params)\n",
        "\n",
        "# How to access the best or current params.\n",
        "print(f\"Best params: {rps_params.best}\")\n",
        "print(f\"Current params: {rps_params.current}\")"
      ]
    },
    {
      "cell_type": "markdown",
      "metadata": {
        "id": "v91pDDzGex9a"
      },
      "source": [
        "Далее мы реализуем следующее:\n",
        "- **Функция выбора действия RPS** - определяет, как мы выбираем действия с учетом набора параметров.\n",
        "- **Модуль памяти RPS** - определяет, какой опыт хранить из взаимодействий со средой.\n",
        "- **Функция обучения RPS** - определяет, как мы обновляем и улучшаем параметры нашей политики."
      ]
    },
    {
      "cell_type": "markdown",
      "metadata": {
        "id": "0tExceGeGNYH"
      },
      "source": [
        "### Функция выбора действия RPS\n",
        "Давайте реализуем функцию с именем `random_policy_search_choose_action`, которую мы можем передать в цикл обучения. Функция должна принимать несколько аргументов, чтобы она могла хорошо взаимодействовать с нашим обобщенным циклом обучения, но вам нужно будет использовать только три из них - `params`, `obs` и `evaluation`.\n",
        "\n",
        "- `params` - это экземпляр `RandomPolicySearchParams` с \"current\" и \"best\".\n",
        "- `obs` - это последнее наблюдение из среды.\n",
        "- `evaluation` - это логическое значение, которое указывает, следует ли нам использовать параметры \"current\" или \"best\". Когда `evaluation==True`, мы должны использовать параметры \"best\", в противном случае мы должны использовать параметры \"current\".\n",
        "\n",
        "**Упражнение 3:** Реализуйте функцию `random_policy_search_choose_action`, как описано выше. Вам следует использовать метод `linear_policy`, который мы определили ранее. Вам также понадобится `jax.lax.select()` для условного возврата \"лучшего\" действия или \"текущего\" действия."
      ]
    },
    {
      "cell_type": "code",
      "execution_count": 14,
      "metadata": {
        "id": "1kmwT35JRjM1"
      },
      "outputs": [],
      "source": [
        "def random_policy_search_choose_action(\n",
        "    key,\n",
        "    params,\n",
        "    actor_state,\n",
        "    obs,\n",
        "    evaluation=False\n",
        "):\n",
        "  \"\"\"Random policy search select action method.\n",
        "\n",
        "  Args:\n",
        "    key: a random number (seed). Not used in this function.\n",
        "    params: the agent's parameters. In this case an instance of `RandomPolicySearchParams`\n",
        "    actor_state: some extra information about the actor. Not used in this function.\n",
        "    obs: the latest observation.\n",
        "    evaluation: a boolean indicating whether to use the best \"parameters\" or the \"current\" ones.\n",
        "\n",
        "  Returns:\n",
        "    The chosen action and the updated actor_state. In this function the actor_state is not updated.\n",
        "  \"\"\"\n",
        "\n",
        "  # YOUR CODE\n",
        "\n",
        "  best_action = linear_policy(params.best, obs)\n",
        "\n",
        "  current_action = linear_policy(params.current, obs)\n",
        "\n",
        "  action = jax.lax.select(\n",
        "      evaluation,\n",
        "      best_action,\n",
        "      current_action\n",
        "  )\n",
        "\n",
        "  # END YOUR CODE\n",
        "\n",
        "  return action, actor_state"
      ]
    },
    {
      "cell_type": "code",
      "execution_count": 15,
      "metadata": {
        "id": "YE4xoAgyI3kG",
        "colab": {
          "base_uri": "https://localhost:8080/"
        },
        "outputId": "200460b3-fe13-4f67-9748-256a21a6fa81"
      },
      "outputs": [
        {
          "output_type": "stream",
          "name": "stdout",
          "text": [
            "Your function looks correct.\n"
          ]
        }
      ],
      "source": [
        "# @title Проверка упр 3 (run me) {display-mode: \"form\"}\n",
        "\n",
        "def check_random_policy_search_choose_action(choose_action):\n",
        "  key = None # not used\n",
        "  actor_state = None # not used\n",
        "\n",
        "  # obs\n",
        "  obs = np.ones(obs_shape)\n",
        "\n",
        "  evaluation=False\n",
        "  current_params = np.ones(obs_shape) * -1\n",
        "  best_params = np.ones(obs_shape)\n",
        "  rps_params = RandomPolicySearchParams(current_params, best_params)\n",
        "  action, actor_state = choose_action(key,rps_params,actor_state,obs,evaluation)\n",
        "  if action != 0:\n",
        "    return False\n",
        "\n",
        "  evaluation=True\n",
        "  current_params = np.ones(obs_shape) * -1\n",
        "  best_params = np.ones(obs_shape)\n",
        "  rps_params = RandomPolicySearchParams(current_params, best_params)\n",
        "  action, actor_state = choose_action(key,rps_params,actor_state,obs,evaluation)\n",
        "  if action != 1:\n",
        "    return False\n",
        "\n",
        "  return True\n",
        "\n",
        "try:\n",
        "  if check_random_policy_search_choose_action(random_policy_search_choose_action):\n",
        "    print(\"Your function looks correct.\")\n",
        "  else:\n",
        "    print(\"Your function looks incorrect.\")\n",
        "except Exception as e:\n",
        "    print(\"An Error Occured: {}\".format(e))"
      ]
    },
    {
      "cell_type": "markdown",
      "metadata": {
        "id": "6zu51ep7Sh0M"
      },
      "source": [
        "### Память агента RPS\n",
        "\n",
        "Для алгоритма поиска случайной политики нам нужно будет отслеживать средний возврат эпизода для последних 50 эпизодов. Помните, что мы сказали, что «текущие» параметры будут считаться «лучшими» параметрами, если средний возврат эпизода при использовании этих параметров больше предыдущего лучшего среднего возврата эпизода.\n",
        "\n",
        "Мы будем использовать интерфейс памяти общего назначения, который довольно прост. Модуль памяти должен иметь три метода. Первый — это функция `memory.push(<transition>)`, которая добавляет некоторую информацию о последнем переходе среды в память. Второй — это функция `memory.is_ready()`, которая проверяет, готова ли память к обучению. Наконец, функция `memory.sample()` должна возвращать последний набор воспоминаний, которые можно передать в `agent_learn_func`.\n",
        "\n",
        "#### Память среднего возврата эпизода\n",
        "Мы создали для вас простой модуль памяти агента. Он хранит `epsisode_returns` последних 20 эпизодов. Прочитайте нашу реализацию ниже и посмотрите, сможете ли вы ее понять. Метод `memory.sample()` возвращает средний возврат эпизода за последние 20 эпизодов."
      ]
    },
    {
      "cell_type": "code",
      "execution_count": 16,
      "metadata": {
        "id": "YVkTBIK5RjM1"
      },
      "outputs": [],
      "source": [
        "class AverageEpisodeReturnBuffer:\n",
        "\n",
        "    def __init__(self, num_episodes_to_store=50):\n",
        "        \"\"\"\n",
        "        This class implements an agent memory that stores the average episode\n",
        "        return over the last 50 episodes.\n",
        "        \"\"\"\n",
        "        self.num_episodes_to_store = num_episodes_to_store\n",
        "        self.episode_return_buffer = []\n",
        "        self.current_episode_return = 0\n",
        "\n",
        "    def push(self, transition):\n",
        "        self.current_episode_return += transition.reward\n",
        "\n",
        "        if transition.done: # If the episode is done\n",
        "            # Add episode return to buffer\n",
        "            self.episode_return_buffer.append(self.current_episode_return)\n",
        "\n",
        "            # Reset episode return\n",
        "            self.current_episode_return = 0\n",
        "\n",
        "\n",
        "    def is_ready(self):\n",
        "        return len(self.episode_return_buffer) == self.num_episodes_to_store\n",
        "\n",
        "    def sample(self):\n",
        "        average_episode_return = np.mean(self.episode_return_buffer)\n",
        "\n",
        "        # Clear episode return buffer\n",
        "        self.episode_return_buffer = []\n",
        "\n",
        "        return average_episode_return"
      ]
    },
    {
      "cell_type": "markdown",
      "metadata": {
        "id": "0oXBsSa2KjWE"
      },
      "source": [
        "### Функция обучения RPS\n",
        "Наконец, нам нужно реализовать функцию `random_policy_search_learn` для нашего алгоритма поиска случайной политики. Функция обучения довольно проста. Все, что нам нужно сделать, это проверить, лучше ли текущие параметры, чем лучшие параметры. Если они лучше, то установите лучшие параметры в качестве текущих параметров и случайным образом сгенерируйте новый набор текущих параметров.\n",
        "\n",
        "**Упражнение 4:** Напишите функцию для случайной генерации новых весов с использованием JAX. Веса должны быть выбраны из интервала `[-2,2]`.\n",
        "\n",
        "**Полезные функции:**\n",
        "*   `jax.random.uniform` ([docs](https://jax.readthedocs.io/en/latest/_autosummary/jax.random.uniform.html#jax.random.uniform))\n",
        "\n"
      ]
    },
    {
      "cell_type": "code",
      "execution_count": 17,
      "metadata": {
        "id": "8V2yFM2XMjGW"
      },
      "outputs": [],
      "source": [
        "def get_new_random_weights(random_key, old_weights, minval=-2.0, maxval=2.0):\n",
        "    new_weights_shape = old_weights.shape # you will need to use these values\n",
        "    new_weights_dtype = old_weights.dtype # you will need to use these values\n",
        "\n",
        "    # YOUR CODE\n",
        "\n",
        "    new_params = jax.random.uniform(shape=new_weights_shape, dtype=new_weights_dtype,\n",
        "                                    key=random_key, minval=minval, maxval=maxval)\n",
        "\n",
        "    # END YOUR CODE\n",
        "\n",
        "    return new_params"
      ]
    },
    {
      "cell_type": "code",
      "execution_count": 18,
      "metadata": {
        "id": "T8ifHTKGQlAd",
        "colab": {
          "base_uri": "https://localhost:8080/"
        },
        "outputId": "446b9e54-2892-4d90-8eb0-8bd70c548909"
      },
      "outputs": [
        {
          "output_type": "stream",
          "name": "stdout",
          "text": [
            "Function is correct!\n"
          ]
        }
      ],
      "source": [
        "# @title Проверка упр 4 (run me) {display-mode: \"form\"}\n",
        "\n",
        "def check_get_new_random_weights(get_new_random_weights):\n",
        "  old_weights = np.ones(obs_shape, \"float32\")\n",
        "  random_key = jax.random.PRNGKey(42)\n",
        "\n",
        "  # Case 1\n",
        "  new_weights = get_new_random_weights(random_key, old_weights, minval=-2.0, maxval=2.0)\n",
        "\n",
        "  if jnp.array_equal(new_weights, jnp.array([ 0.29657745,1.4265499, -1.7621555, -1.7505779 ])):\n",
        "    print(\"Function is correct!\")\n",
        "  else:\n",
        "    print(\"Something is wrong.\")\n",
        "\n",
        "try:\n",
        "  check_get_new_random_weights(get_new_random_weights)\n",
        "except Exception as e:\n",
        "    print(\"An Error Occured: {}\".format(e))"
      ]
    },
    {
      "cell_type": "markdown",
      "metadata": {
        "id": "2Djxc9j-LzkM"
      },
      "source": [
        "Наша функция обучения получает память в форме среднего возврата эпизода из `AverageEpisodeReturnMemory`, которую мы реализовали ранее. Мы можем использовать это для сравнения текущих параметров с лучшими параметрами. Но нам также нужно будет отслеживать лучший средний возврат эпизода для функции обучения. Для этого мы можем использовать аргумент `learn_state`, который передается в `agent_learn_func` в нашем цикле обучения. Как и в случае с `RandomPolicySearchParams`, мы будем использовать NamedTuple для хранения `best_average_episode_return` в `learn_state`."
      ]
    },
    {
      "cell_type": "code",
      "execution_count": 19,
      "metadata": {
        "id": "4cSH4uYmRjM2",
        "colab": {
          "base_uri": "https://localhost:8080/"
        },
        "outputId": "558ce170-fb91-4d07-8f2e-773d464898ad"
      },
      "outputs": [
        {
          "output_type": "stream",
          "name": "stdout",
          "text": [
            "Initial best average episode return: -inf\n"
          ]
        }
      ],
      "source": [
        "# A NamedTuple to store the best average episode return so far\n",
        "RandomPolicyLearnState = collections.namedtuple(\n",
        "  \"RandomPolicyLearnState\",\n",
        "  [\"best_average_episode_return\"]\n",
        ")\n",
        "\n",
        "# Test\n",
        "initial_learn_state = RandomPolicyLearnState(best_average_episode_return=-float(\"inf\"))\n",
        "print(\"Initial best average episode return:\", initial_learn_state.best_average_episode_return)"
      ]
    },
    {
      "cell_type": "markdown",
      "metadata": {
        "id": "PxZXdP8bOu6b"
      },
      "source": [
        "Теперь у нас есть все необходимое для реализации функции `random_policy_search_learn`.\n",
        "\n",
        "**Упражнение 5:** Реализуйте функцию `random_policy_search_learn`. Функция должна проверять, лучше ли «текущие» параметры, чем «лучшие» параметры, сравнивая `current_average_episode_return` с `best_average_episode_return`. Функция также должна обновлять `learn_state`."
      ]
    },
    {
      "cell_type": "code",
      "execution_count": 23,
      "metadata": {
        "id": "Te_Q3qzmZcN_"
      },
      "outputs": [],
      "source": [
        "def random_policy_search_learn(key, params, learn_state, memory):\n",
        "    best_params = params.best\n",
        "    current_params = params.current\n",
        "\n",
        "    current_average_episode_return = memory # the memory contains the average episode return\n",
        "    best_average_episode_return = learn_state.best_average_episode_return\n",
        "\n",
        "\n",
        "    # YOUR CODE\n",
        "\n",
        "    best_params = jax.lax.select(\n",
        "        current_average_episode_return > best_average_episode_return,\n",
        "        current_params,\n",
        "        best_params\n",
        "    )\n",
        "\n",
        "    best_average_episode_return = jax.lax.select(\n",
        "        current_average_episode_return > best_average_episode_return,\n",
        "        current_average_episode_return,\n",
        "        best_average_episode_return\n",
        "    )\n",
        "\n",
        "    # END YOUR CODE\n",
        "\n",
        "    # Generate new random parameters\n",
        "    new_params = get_new_random_weights(key, current_params)\n",
        "\n",
        "    # Bundle weights in RandomPolicySearchParams NamedTuple\n",
        "    params = RandomPolicySearchParams(current=new_params, best=best_params)\n",
        "\n",
        "    return params, RandomPolicyLearnState(best_average_episode_return)"
      ]
    },
    {
      "cell_type": "code",
      "execution_count": 24,
      "metadata": {
        "id": "CXHV4k2iBLBF",
        "colab": {
          "base_uri": "https://localhost:8080/"
        },
        "outputId": "077f16c4-9bfb-4e67-b94b-aae2c69eecd7"
      },
      "outputs": [
        {
          "output_type": "stream",
          "name": "stdout",
          "text": [
            "Your function looks correct.\n"
          ]
        }
      ],
      "source": [
        "#@title Проверка упр 5 {display-mode: \"form\"}\n",
        "\n",
        "params = RandomPolicySearchParams(np.ones(obs_shape, \"float32\"), np.ones(obs_shape, \"float32\") * -1)\n",
        "learn_state = RandomPolicyLearnState(10)\n",
        "memory = 11\n",
        "key = jax.random.PRNGKey(42)\n",
        "\n",
        "try:\n",
        "  new_params, new_learn_state = random_policy_search_learn(key, params, learn_state, memory)\n",
        "\n",
        "  if not jnp.array_equal(new_params.current, jnp.array([ 0.29657745,  1.4265499 , -1.7621555 , -1.7505779 ])):\n",
        "    print(\"Your function is incorrect.\")\n",
        "\n",
        "  elif not jnp.array_equal(new_params.best, jnp.array([1., 1., 1., 1.])):\n",
        "    print(\"Your function is incorrect.\")\n",
        "\n",
        "  elif new_learn_state.best_average_episode_return != 11:\n",
        "    print(\"Your function is incorrect.\")\n",
        "\n",
        "  else:\n",
        "    print(\"Your function looks correct.\")\n",
        "except Exception as e:\n",
        "    print(\"An Error Occured: {}\".format(e))"
      ]
    },
    {
      "cell_type": "markdown",
      "metadata": {
        "id": "5Ol_AxnMBdgP"
      },
      "source": [
        "### Цикл обучения RPS\n",
        "Теперь мы можем собрать все вместе, передав модуль `memory`, функцию `learn` и функцию `choose_action` в цикл обучения. Чтобы ускорить наш алгоритм, мы будем использовать `jax.jit` в функции `learn` и функции `choose_action`."
      ]
    },
    {
      "cell_type": "code",
      "execution_count": 25,
      "metadata": {
        "id": "Qx57tf7vRjM3",
        "colab": {
          "base_uri": "https://localhost:8080/",
          "height": 680
        },
        "outputId": "2150366d-bbeb-43e3-ecb8-fe56778ec120"
      },
      "outputs": [
        {
          "output_type": "stream",
          "name": "stdout",
          "text": [
            "Starting training. This may take up to 5 minutes to complete.\n",
            "Episode: 0\tEpisode Return: 80.0\tAverage Episode Return: 80.0\tEvaluator Episode Return: 145.0\n",
            "Episode: 100\tEpisode Return: 8.0\tAverage Episode Return: 83.7\tEvaluator Episode Return: 127.125\n",
            "Episode: 200\tEpisode Return: 20.0\tAverage Episode Return: 9.75\tEvaluator Episode Return: 115.0\n",
            "Episode: 300\tEpisode Return: 200.0\tAverage Episode Return: 18.6\tEvaluator Episode Return: 133.75\n",
            "Episode: 400\tEpisode Return: 9.0\tAverage Episode Return: 8.95\tEvaluator Episode Return: 137.25\n",
            "Episode: 500\tEpisode Return: 8.0\tAverage Episode Return: 9.2\tEvaluator Episode Return: 134.5\n",
            "Episode: 600\tEpisode Return: 52.0\tAverage Episode Return: 69.1\tEvaluator Episode Return: 144.125\n",
            "Episode: 700\tEpisode Return: 200.0\tAverage Episode Return: 19.45\tEvaluator Episode Return: 125.125\n",
            "Episode: 800\tEpisode Return: 200.0\tAverage Episode Return: 61.95\tEvaluator Episode Return: 183.125\n",
            "Episode: 900\tEpisode Return: 9.0\tAverage Episode Return: 9.7\tEvaluator Episode Return: 143.0\n",
            "Episode: 1000\tEpisode Return: 200.0\tAverage Episode Return: 19.25\tEvaluator Episode Return: 156.75\n"
          ]
        },
        {
          "output_type": "display_data",
          "data": {
            "text/plain": [
              "<Figure size 640x480 with 1 Axes>"
            ],
            "image/png": "[encoded data removed]"
          },
          "metadata": {}
        }
      ],
      "source": [
        "# JIT the learn and choose action functions\n",
        "random_policy_search_learn_jit = jax.jit(random_policy_search_learn)\n",
        "random_policy_search_choose_action_jit = jax.jit(random_policy_search_choose_action)\n",
        "\n",
        "# Initialise the parameters\n",
        "initial_weights = np.ones(obs_shape, \"float32\")\n",
        "initial_params = RandomPolicySearchParams(initial_weights, initial_weights)\n",
        "\n",
        "# Initialise the learn state\n",
        "initial_learn_state = RandomPolicyLearnState(best_average_episode_return=-float(\"inf\"))\n",
        "\n",
        "# Initialise memory\n",
        "memory = AverageEpisodeReturnBuffer(num_episodes_to_store=50)\n",
        "\n",
        "# Run the training loop\n",
        "print(\"Starting training. This may take up to 5 minutes to complete.\")\n",
        "chex.clear_trace_counter()\n",
        "episode_return, evaluator_episode_returns = run_training_loop(\n",
        "                                        env_name,\n",
        "                                        initial_params,\n",
        "                                        random_policy_search_choose_action_jit,\n",
        "                                        None, # no actor state\n",
        "                                        random_policy_search_learn_jit,\n",
        "                                        initial_learn_state,\n",
        "                                        memory,\n",
        "                                        num_episodes=1001,\n",
        "                                        video_subdir=\"rps\"\n",
        "                                    )\n",
        "\n",
        "# Plot graph of evaluator episode returns\n",
        "plt.plot(np.linspace(0, 1000, len(evaluator_episode_returns)), evaluator_episode_returns)\n",
        "plt.title(\"Random Policy Search\")\n",
        "plt.xlabel(\"Episodes\")\n",
        "plt.ylabel(\"Episode Return\")\n",
        "plt.show()"
      ]
    },
    {
      "cell_type": "markdown",
      "metadata": {
        "id": "TG10FG6uS05A"
      },
      "source": [
        "Надеюсь, вы нашли набор оптимальных параметров на CartPole (возврат эпизода достигает `200`). В ячейке ниже вы можете посмотреть несколько видеороликов агента, выполняющего задание."
      ]
    },
    {
      "cell_type": "code",
      "execution_count": 26,
      "metadata": {
        "id": "KgayDJ7KWC4C",
        "colab": {
          "base_uri": "https://localhost:8080/",
          "height": 288
        },
        "outputId": "515dfa33-c47d-4348-ee94-f9a3f44912b3"
      },
      "outputs": [
        {
          "output_type": "execute_result",
          "data": {
            "text/plain": [
              "<IPython.core.display.HTML object>"
            ],
            "text/html": [
              "\n",
              "<video width=400 controls>\n",
              "      <source src=\"data:video/mp4;base64,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\" type=\"video/mp4\">\n",
              "</video>\n"
            ]
          },
          "metadata": {},
          "execution_count": 26
        }
      ],
      "source": [
        "#@title Visualise Policy {display-mode: \"form\"}\n",
        "#@markdown Choose an episode number that is a multiple of 100 and less than or equal to 2000, and **run** this cell.\n",
        "episode_number = 1000 #@param {type:\"number\"}\n",
        "\n",
        "assert (episode_number % 100) == 0, \"Episode number must be a multiple of 100 since we only record every 100th episode.\"\n",
        "assert episode_number < 1001, \"Episode number must be less than or equal to 2000\"\n",
        "\n",
        "eval_episode_number = int(episode_number / 100 * 8)\n",
        "video_path = f\"./video/rps/eval/rl-video-episode-{eval_episode_number}.mp4\"\n",
        "\n",
        "mp4 = open(video_path,'rb').read()\n",
        "data_url = \"data:video/mp4;base64,\" + b64encode(mp4).decode()\n",
        "HTML(\"\"\"\n",
        "<video width=400 controls>\n",
        "      <source src=\"%s\" type=\"video/mp4\">\n",
        "</video>\n",
        "\"\"\" % data_url)"
      ]
    },
    {
      "cell_type": "markdown",
      "metadata": {
        "id": "Xwf1IKKbrrVn"
      },
      "source": [
        "Итак, случайный поиск политики справился с этой задачей довольно хорошо. Однако здесь происходит очень мало (если вообще происходит) реального *обучения*. Далее давайте рассмотрим реализацию простого алгоритма RL, который может использовать свой опыт для руководства нашим поиском оптимальной политики, а не просто искать ее случайным образом."
      ]
    },
    {
      "cell_type": "markdown",
      "metadata": {
        "id": "XEnSjZVESrxc"
      },
      "source": [
        "## 3. Градиенты политики  (Policy Gradients, PG)\n",
        "Как обсуждалось, цель RL — найти политику, которая максимизирует ожидаемое совокупное вознаграждение (возврат), которое агент получает от среды. Мы можем записать ожидаемый возврат политики как:\n",
        "\n",
        "$J(\\pi_\\theta)=\\mathrm{E}_{\\tau\\sim\\pi_\\theta}\\ [R(\\tau)]$,\n",
        "\n",
        "где $\\pi_\\theta$ — это политика, параметризованная $\\theta$, $\\mathrm{E}$ означает *ожидание*, $\\tau$ — это сокращение для \"*эпизод*\", $\\tau\\sim\\pi_\\theta$ — это сокращение для \"*эпизоды, выбранные с использованием политики* $\\pi_\\theta$\", а $R(\\tau)$ — это возврат эпизода $\\tau$.\n",
        "\n",
        "Затем, цель в RL — найти параметры $\\theta$, которые максимизируют функцию $J(\\pi_\\theta)$. Один из способов найти эти параметры — выполнить градиентный подъем по $J(\\pi_\\theta)$ относительно параметров $\\theta$:\n",
        "\n",
        "$\\theta_{k+1}=\\theta_k + \\alpha \\nabla J(\\pi_\\theta)|_{\\theta_{k}}$,\n",
        "\n",
        "где $\\nabla J(\\pi_\\theta)|_{\\theta_{k}}$ — градиент ожидаемой доходности относительно параметров политики $\\theta_k$, а $\\alpha$ — размер шага. Эта величина, $\\nabla J(\\pi_\\theta)$, также называется **градиентом политики** и очень важна в RL. Если мы сможем вычислить градиент политики, то у нас будет средство, с помощью которого можно напрямую оптимизировать нашу политику.\n",
        "\n",
        "Как оказалось, у нас есть способ вычислить градиент политики, и математический вывод можно найти [здесь](https://spinningup.openai.com/en/latest/spinningup/rl_intro3.html). Но для этого руководства мы опустим вывод и просто дадим вам результат:\n",
        "\n",
        "$\\nabla_{\\theta} J(\\pi_{\\theta})=\\underset{\\tau \\sim \\pi_{\\theta}}{\\mathrm{E}}[\\sum_{t=0}^{T} \\nabla_{\\theta} \\log \\pi_{\\theta}(a_{t} \\mid s_{t}) R(\\tau)]$\n",
        "\n",
        "Неформально, градиент политики равен градиенту логарифма вероятности выбранного действия, умноженного на возврат эпизода, в котором было предпринято действие.\n"
      ]
    },
    {
      "cell_type": "markdown",
      "metadata": {
        "id": "BTnTzgtSuy-y"
      },
      "source": [
        "### REINFORCE\n",
        "REINFORCE — это простой алгоритм RL, который использует градиент политики для поиска оптимальной политики путем увеличения вероятности выбора действий (усиливающих действий), которые, как правило, приводят к эпизодам с высокой отдачей.\n",
        "\n",
        "**Упражнение 6:** Реализуйте функцию, которая берет вероятность действия и отдачу эпизода, в котором действие было предпринято, и вычисляет логарифм вероятности, умноженный на отдачу. Убедитесь, что вы используете JAX.\n",
        "\n",
        "**Полезные функции:**\n",
        "*   `jax.numpy.log`([docs](https://jax.readthedocs.io/en/latest/_autosummary/jax.numpy.log.html))"
      ]
    },
    {
      "cell_type": "code",
      "execution_count": 27,
      "metadata": {
        "id": "bJObUsoUrOyV"
      },
      "outputs": [],
      "source": [
        "def compute_weighted_log_prob(action_prob, episode_return):\n",
        "\n",
        "    # YOUR CODE\n",
        "\n",
        "    log_prob = jax.numpy.log(action_prob)\n",
        "\n",
        "    weighted_log_prob = log_prob * episode_return\n",
        "\n",
        "    # END YOUR CODE\n",
        "\n",
        "    return weighted_log_prob"
      ]
    },
    {
      "cell_type": "code",
      "execution_count": 28,
      "metadata": {
        "id": "eZPoTwa1Gbm1",
        "colab": {
          "base_uri": "https://localhost:8080/"
        },
        "outputId": "b3019d4b-3532-4edb-8c85-58e8c55b39ec"
      },
      "outputs": [
        {
          "output_type": "stream",
          "name": "stdout",
          "text": [
            "Looks correct.\n"
          ]
        }
      ],
      "source": [
        "#@title Проверка упр 6 {display-mode: \"form\"}\n",
        "\n",
        "try:\n",
        "  action_prob = 0.8\n",
        "  episode_return = 100\n",
        "  result = compute_weighted_log_prob(action_prob, episode_return)\n",
        "  if result != -22.314354:\n",
        "    print(\"Your implementation looks incorrect.\")\n",
        "  else:\n",
        "    print(\"Looks correct.\")\n",
        "except Exception as e:\n",
        "    print(\"An Error Occured: {}\".format(e))"
      ]
    },
    {
      "cell_type": "markdown",
      "metadata": {
        "id": "NmgW9UJ3tIpl"
      },
      "source": [
        "### Rewards-to-go\n",
        "Выполнение градиентного подъема по градиенту логарифма вероятности действия, взвешенного по возврату эпизода, будет иметь тенденцию повышать вероятность действий, которые были в эпизодах с высоким возвратом, независимо от того, *где* в эпизоде ​​было выполнено действие. Это на самом деле не имеет большого смысла, потому что действие ближе к концу эпизода может быть подкреплено, потому что много вознаграждения было собрано ранее в эпизоде, *до* того, как было выполнено действие. Агенты RL должны на самом деле подкреплять действия только на основе их *последствий*. Вознаграждения, полученные до выполнения действия, не влияют на то, насколько хорошим было это действие: только вознаграждения, которые приходят после. Накопленные вознаграждения, полученные после выполнения действия, называются **вознаграждениями-к-переходу** и могут быть вычислены как:\n",
        "\n",
        "$\\hat{R}_i=\\sum_{t=i}^Tr_t$\n",
        "\n",
        "Сравните это с доходностью эпизода:\n",
        "\n",
        "$R(\\tau)=\\sum_{t=0}^Tr_t$\n",
        "\n",
        "Мы можем повысить надежность градиента политики, заменив доходность эпизода на вознаграждения-к-переходу. Градиент политики с оставшимися наградами задается следующим образом:\n",
        "\n",
        "$\\nabla_{\\theta} J(\\pi_{\\theta})=\\underset{\\tau \\sim \\pi_{\\theta}}{\\mathrm{E}}[\\sum_{t=0}^{T} \\nabla_{\\theta} \\log \\pi_{\\theta}(a_{t} \\mid s_{t}) \\hat{R}_t]$\n",
        "\n",
        "**Упражнение 7:** Реализуйте функцию, которая берет список всех наград, полученных в эпизоде, и вычисляет оставшиеся награды. Не беспокойтесь об использовании JAX в этой функции. Вы можете использовать обычные операции Python, такие как `for-loops`."
      ]
    },
    {
      "cell_type": "code",
      "execution_count": 31,
      "metadata": {
        "id": "nV1Hww8E3dUJ"
      },
      "outputs": [],
      "source": [
        "def compute_rewards_to_go(rewards):\n",
        "    \"\"\"\n",
        "    This function should take a list of rewards as input and\n",
        "    compute the rewards-to-go for each timestep.\n",
        "\n",
        "    EXAMPLE: compute_rewards_to_go([1,2,3,4]) = [10, 9, 7, 4]\n",
        "\n",
        "    Arguments:\n",
        "        rewards[t] is the reward at time step t.\n",
        "\n",
        "    Returns:\n",
        "        rewards_to_go[t] should be the reward-to-go at timestep t.\n",
        "    \"\"\"\n",
        "\n",
        "    rewards_to_go = [0] * len(rewards)\n",
        "\n",
        "    # YOUR CODE\n",
        "    cumulative_reward = 0\n",
        "    for t in reversed(range(len(rewards))):\n",
        "        cumulative_reward += rewards[t]\n",
        "        rewards_to_go[t] = cumulative_reward\n",
        "\n",
        "    # END YOUR CODE\n",
        "\n",
        "    return rewards_to_go"
      ]
    },
    {
      "cell_type": "code",
      "execution_count": 32,
      "metadata": {
        "id": "hLVaVRp28YGI",
        "colab": {
          "base_uri": "https://localhost:8080/"
        },
        "outputId": "a01c4bae-6aec-4510-c1b9-4c7f90bf64ea"
      },
      "outputs": [
        {
          "output_type": "stream",
          "name": "stdout",
          "text": [
            "Looks correct.\n"
          ]
        }
      ],
      "source": [
        "#@title Проверка упр 7 {display-mode: \"form\"}\n",
        "\n",
        "try:\n",
        "  result = compute_rewards_to_go([1,2,3,4])\n",
        "\n",
        "  if result != [10, 9, 7, 4]:\n",
        "    print(\"There is a problem with your implementation.\")\n",
        "  else:\n",
        "    print(\"Looks correct.\")\n",
        "except Exception as e:\n",
        "    print(\"An Error Occured: {}\".format(e))\n"
      ]
    },
    {
      "cell_type": "markdown",
      "metadata": {
        "id": "IboxN9MS65i5"
      },
      "source": [
        "### REINFORCE memory\n",
        "Далее нам нужно будет создать новую память агента для хранения вознаграждений $\\hat{R}_t$ вместе с наблюдением $o_t$ и действием $a_t$ на каждом временном шаге. Ниже мы реализовали такой модуль памяти для вас. Функция `memory.sample()` вернет пакет из последних 500 воспоминаний. Вы можете прочитать код, чтобы попытаться понять его, но это не обязательно. Поэтому мы скрываем код по умолчанию."
      ]
    },
    {
      "cell_type": "code",
      "execution_count": 33,
      "metadata": {
        "id": "xhS4V6auRjM3"
      },
      "outputs": [],
      "source": [
        "# @title Реализация памяти (run me) {display-mode: \"form\"}\n",
        "\n",
        "# NamedTuple to store memory\n",
        "EpisodeRewardsToGoMemory = collections.namedtuple(\"EpisodeRewardsToGoMemory\", [\"obs\", \"action\", \"reward_to_go\"])\n",
        "\n",
        "class EpisodeRewardsToGoBuffer:\n",
        "\n",
        "    def __init__(self, num_transitions_to_store=512, batch_size=256):\n",
        "        self.batch_size = batch_size\n",
        "        self.memory_buffer = collections.deque(maxlen=num_transitions_to_store)\n",
        "        self.current_episode_transition_buffer = []\n",
        "\n",
        "    def push(self, transition):\n",
        "        self.current_episode_transition_buffer.append(transition)\n",
        "\n",
        "        if transition.done:\n",
        "\n",
        "            episode_rewards = []\n",
        "            for t in self.current_episode_transition_buffer:\n",
        "                episode_rewards.append(t.reward)\n",
        "\n",
        "            r2g = compute_rewards_to_go(episode_rewards)\n",
        "\n",
        "            for i, t in enumerate(self.current_episode_transition_buffer):\n",
        "                memory = EpisodeRewardsToGoMemory(t.obs, t.action, r2g[i])\n",
        "                self.memory_buffer.append(memory)\n",
        "\n",
        "            # Reset episode buffer\n",
        "            self.current_episode_transition_buffer = []\n",
        "\n",
        "\n",
        "    def is_ready(self):\n",
        "        return len(self.memory_buffer) >= self.batch_size\n",
        "\n",
        "    def sample(self):\n",
        "        random_memory_sample = random.sample(self.memory_buffer, self.batch_size)\n",
        "\n",
        "        obs_batch, action_batch, reward_to_go_batch = zip(*random_memory_sample)\n",
        "\n",
        "        return EpisodeRewardsToGoMemory(\n",
        "            np.stack(obs_batch).astype(\"float32\"),\n",
        "            np.asarray(action_batch).astype(\"int32\"),\n",
        "            np.asarray(reward_to_go_batch).astype(\"int32\")\n",
        "        )\n",
        "\n",
        "\n",
        "# Instantiate Memory\n",
        "REINFORCE_memory = EpisodeRewardsToGoBuffer(num_transitions_to_store=512, batch_size=256)"
      ]
    },
    {
      "cell_type": "markdown",
      "metadata": {
        "id": "Idkav_aSYXvz"
      },
      "source": [
        "### Policy neural network\n",
        "Далее мы будем использовать простую нейронную сеть для аппроксимации политики. Наша нейронная сеть политики будет иметь входной слой, который принимает наблюдение в качестве входных данных и пропускает его через два скрытых слоя, а затем выводит одно скалярное значение для каждого из возможных действий. Таким образом, в CartPole выходной слой будет иметь размер `2`.\n",
        "\n",
        "[Haiku](https://github.com/deepmind/dm-haiku) — это библиотека для реализации нейронных сетей в JAX. Ниже мы реализовали простую функцию для создания сети политики для вас.\n"
      ]
    },
    {
      "cell_type": "code",
      "execution_count": 34,
      "metadata": {
        "id": "j2XO7VkORjM4"
      },
      "outputs": [],
      "source": [
        "def make_policy_network(num_actions: int, layers=[20, 20]) -> hk.Transformed:\n",
        "  \"\"\"Factory for a simple MLP network for the policy.\"\"\"\n",
        "\n",
        "  def policy_network(obs):\n",
        "    network = hk.Sequential(\n",
        "        [\n",
        "            hk.Flatten(),\n",
        "            hk.nets.MLP(layers + [num_actions])\n",
        "        ]\n",
        "    )\n",
        "    return network(obs)\n",
        "\n",
        "  return hk.without_apply_rng(hk.transform(policy_network))"
      ]
    },
    {
      "cell_type": "markdown",
      "metadata": {
        "id": "1GR2y8FjaG-G"
      },
      "source": [
        "У сетей Haiku есть две важные функции, о которых вам нужно знать. Первая — `network.init(<random_key>, <input>)`, которая возвращает набор случайных начальных параметров. Второй метод — `network.apply(<params>, <input>)`, который передает входные данные через сеть, используя предоставленный набор параметров."
      ]
    },
    {
      "cell_type": "code",
      "execution_count": 35,
      "metadata": {
        "id": "fJrn9o-Vatkw",
        "colab": {
          "base_uri": "https://localhost:8080/"
        },
        "outputId": "9b78f07f-09d2-4fcc-eefe-63ccb6f15497"
      },
      "outputs": [
        {
          "output_type": "stream",
          "name": "stdout",
          "text": [
            "Initial params: dict_keys(['mlp/~/linear_0', 'mlp/~/linear_1', 'mlp/~/linear_2'])\n",
            "Policy network output: [ 0.9115592 -0.396174 ]\n"
          ]
        }
      ],
      "source": [
        "# Example\n",
        "POLICY_NETWORK = make_policy_network(num_actions=num_actions, layers=[20,20])\n",
        "random_key = jax.random.PRNGKey(42) # random key\n",
        "dummy_obs = np.ones(obs_shape, \"float32\")\n",
        "\n",
        "# Initialise parameters\n",
        "REINFORCE_params = POLICY_NETWORK.init(random_key, dummy_obs)\n",
        "print(\"Initial params:\", REINFORCE_params.keys())\n",
        "\n",
        "# Pass input through the network\n",
        "output = POLICY_NETWORK.apply(REINFORCE_params, dummy_obs)\n",
        "print(\"Policy network output:\", output)\n"
      ]
    },
    {
      "cell_type": "markdown",
      "metadata": {
        "id": "MlouUBvoeunz"
      },
      "source": [
        "Выходы нашей сети политик — [логиты](https://qr.ae/pv4YTe). Чтобы преобразовать это в распределение вероятностей по действиям, мы передаем логиты в функцию [softmax](https://en.wikipedia.org/wiki/Softmax_function).\n",
        "\n",
        "### УСИЛЕНИЕ выбор функции действия\n",
        "\n",
        "**Упражнение 8:** Завершите функцию ниже, которая берет вектор логитов и случайным образом выбирает действие из категориального распределения, заданного логитами.\n",
        "\n",
        "**Полезные функции:**"
      ]
    },
    {
      "cell_type": "code",
      "execution_count": 36,
      "metadata": {
        "id": "m3Z8DxUmeOGJ"
      },
      "outputs": [],
      "source": [
        "def sample_action(random_key, logits):\n",
        "\n",
        "  # YOUR CODE HERE\n",
        "  action = jax.random.categorical(random_key, logits)\n",
        "\n",
        "  # END YOUR code\n",
        "\n",
        "  return action"
      ]
    },
    {
      "cell_type": "code",
      "execution_count": 37,
      "metadata": {
        "id": "5opHJMO0D_Ub",
        "colab": {
          "base_uri": "https://localhost:8080/"
        },
        "outputId": "2a04fab7-6459-4569-ee2c-1de51e6fbcea"
      },
      "outputs": [
        {
          "output_type": "stream",
          "name": "stdout",
          "text": [
            "Seems correct.\n"
          ]
        }
      ],
      "source": [
        "#@title Проверка упр 8 {display-mode: \"form\"}\n",
        "\n",
        "try:\n",
        "  random_key = jax.random.PRNGKey(42) # random key\n",
        "  action = sample_action(random_key, np.array([1,2], \"float32\"))\n",
        "  if action != 1:\n",
        "    print(\"Your function is incorrect.\")\n",
        "  else:\n",
        "    print(\"Seems correct.\")\n",
        "except Exception as e:\n",
        "    print(\"An Error Occured: {}\".format(e))"
      ]
    },
    {
      "cell_type": "markdown",
      "metadata": {
        "id": "jP5UH87VRjM4"
      },
      "source": [
        "Теперь мы можем реализовать функцию `REINFORCE_choose_action`. Мы передадим наблюдение через сеть политики для вычисления логитов, а затем передадим логиты в функцию `sample_action` для выбора и действия."
      ]
    },
    {
      "cell_type": "code",
      "execution_count": 38,
      "metadata": {
        "id": "UJTzrDAZ0Ul5"
      },
      "outputs": [],
      "source": [
        "def REINFORCE_choose_action(key, params, actor_state, obs, evaluation=False):\n",
        "  obs = jnp.expand_dims(obs, axis=0) # add dummy batch dim before passing through network\n",
        "\n",
        "  # Pass obs through policy network to compute logits\n",
        "  logits = POLICY_NETWORK.apply(params, obs)\n",
        "  logits = logits[0] # remove batch dim\n",
        "\n",
        "  # Randomly sample action\n",
        "  sampled_action = sample_action(key, logits)\n",
        "\n",
        "  return sampled_action, actor_state"
      ]
    },
    {
      "cell_type": "markdown",
      "metadata": {
        "id": "NI26SLAb7iRo"
      },
      "source": [
        "Теперь, когда мы реализовали функцию `REINFORCE_choose_action`, нам осталось только создать функцию `REINFORCE_learn`. Функция обучения должна использовать функцию `weighted_log_prob`, которую мы создали ранее, чтобы вычислить потери градиента политики и применить обновления градиента к нашей нейронной сети."
      ]
    },
    {
      "cell_type": "markdown",
      "metadata": {
        "id": "36ALCJESQJ8e"
      },
      "source": [
        "### Policy gradient loss\n",
        "\n",
        "\n",
        "**Упражнение 9:** Завершите функцию `policy_gradient_loss` ниже. Функция должна вычислять вероятности действий, пропуская `logits` через функцию softmax. Затем следует извлечь вероятность заданного `action` (используя индексацию массива) и вычислить `weighted_log_prob`, используя функцию, которую мы создали ранее.\n",
        "\n",
        "**Полезные методы:**\n",
        "*   `jax.nn.softmax` ([docs](https://jax.readthedocs.io/en/latest/_autosummary/jax.nn.softmax.html))"
      ]
    },
    {
      "cell_type": "code",
      "execution_count": 39,
      "metadata": {
        "id": "9sUKkqx0RjM4"
      },
      "outputs": [],
      "source": [
        "def policy_gradient_loss(action, logits, reward_to_go):\n",
        "\n",
        "  # YOUR CODE\n",
        "\n",
        "  all_action_probs = jax.nn.softmax(logits) # convert logits into probs\n",
        "\n",
        "  action_prob = all_action_probs[action] # using array indexing to get prob of action\n",
        "\n",
        "  weighted_log_prob = compute_weighted_log_prob(action_prob, reward_to_go)\n",
        "\n",
        "  # END YOUR CODE\n",
        "\n",
        "  loss = - weighted_log_prob # negative because we want gradient `ascent`\n",
        "\n",
        "  return loss"
      ]
    },
    {
      "cell_type": "code",
      "execution_count": 40,
      "metadata": {
        "id": "7AMJvau1FsM5",
        "colab": {
          "base_uri": "https://localhost:8080/"
        },
        "outputId": "b270c0af-c92a-4380-f190-34aa2e48266f"
      },
      "outputs": [
        {
          "output_type": "stream",
          "name": "stdout",
          "text": [
            "Looks correct.\n"
          ]
        }
      ],
      "source": [
        "#@title Проверка упр 9 {display-mode: \"form\"}\n",
        "\n",
        "try:\n",
        "  result = policy_gradient_loss(1, np.array([1,2], \"float32\"), 10)\n",
        "  if result != 3.1326175:\n",
        "    print(\"Your implementation looks wrong.\")\n",
        "  else:\n",
        "    print(\"Looks correct.\")\n",
        "except Exception as e:\n",
        "  print(\"An Error Occured: {}\".format(e))\n"
      ]
    },
    {
      "cell_type": "markdown",
      "metadata": {
        "id": "Gzuqx1jJrwVx"
      },
      "source": [
        "Когда мы делаем шаг обновления градиента политики, мы захотим сделать это, используя пакет опыта, а не просто один опыт, как выше. Мы можем использовать функцию JAX [vmap](https://jax.readthedocs.io/en/latest/_autosummary/jax.vmap.html#jax.vmap), чтобы легко заставить нашу функцию `policy_gradient_loss` работать с пакетом опыта."
      ]
    },
    {
      "cell_type": "code",
      "execution_count": 41,
      "metadata": {
        "id": "3yq4naLURjM4",
        "colab": {
          "base_uri": "https://localhost:8080/"
        },
        "outputId": "07e20291-59f4-40ba-d953-9b4ac0b0c65f"
      },
      "outputs": [
        {
          "output_type": "stream",
          "name": "stdout",
          "text": [
            "Policy gradient loss on batch: 1.6967319\n"
          ]
        }
      ],
      "source": [
        "def batched_policy_gradient_loss(params, obs_batch, action_batch, reward_to_go_batch):\n",
        "    # Get logits by passing observation through network\n",
        "    logits_batch = POLICY_NETWORK.apply(params, obs_batch)\n",
        "\n",
        "    policy_gradient_loss_batch = jax.vmap(policy_gradient_loss)(\n",
        "        action_batch,\n",
        "        logits_batch,\n",
        "        reward_to_go_batch) # add batch\n",
        "\n",
        "    # Compute mean loss over batch\n",
        "    mean_policy_gradient_loss = jnp.mean(policy_gradient_loss_batch)\n",
        "\n",
        "    return mean_policy_gradient_loss\n",
        "\n",
        "# TEST\n",
        "obs_batch = np.ones((3, *obs_shape), \"float32\")\n",
        "actions_batch = np.array([1,0,0])\n",
        "rew2go_batch = np.array([2.3, 4.3, 2.1])\n",
        "\n",
        "loss = batched_policy_gradient_loss(REINFORCE_params, obs_batch, actions_batch, rew2go_batch)\n",
        "\n",
        "print(\"Policy gradient loss on batch:\", loss)"
      ]
    },
    {
      "cell_type": "markdown",
      "metadata": {
        "id": "VDhTH3culwqo"
      },
      "source": [
        "### Оптимизатор сети\n",
        "\n",
        "Чтобы применить обновления градиента политики к нашей нейронной сети, мы будем использовать библиотеку JAX под названием [Optax](https://github.com/deepmind/optax). Optax имеет реализацию [оптимизатора Adam](https://www.geeksforgeeks.org/intuition-of-adam-optimizer/), которую мы можем использовать."
      ]
    },
    {
      "cell_type": "code",
      "execution_count": 42,
      "metadata": {
        "id": "pxXINlMHP5Ic"
      },
      "outputs": [],
      "source": [
        "REINFORCE_OPTIMIZER = optax.adam(1e-3)\n",
        "\n",
        "# Initialise the optimiser\n",
        "REINFORCE_optim_state = REINFORCE_OPTIMIZER.init(REINFORCE_params)"
      ]
    },
    {
      "cell_type": "markdown",
      "metadata": {
        "id": "ViENrHOALbCw"
      },
      "source": [
        "Теперь у нас есть все необходимое для создания функции `REINFORCE_learn`. Мы сохраним состояние оптимизатора в `learn_state`. Мы вычислим градиент потерь градиента политики с помощью  `jax.grad` ([docs](https://jax.readthedocs.io/en/latest/_autosummary/jax.grad.html))."
      ]
    },
    {
      "cell_type": "code",
      "execution_count": 43,
      "metadata": {
        "id": "CQr2Uz5ORjM5"
      },
      "outputs": [],
      "source": [
        "# A NamedTuple to store the state of the optimiser\n",
        "REINFORCELearnState = collections.namedtuple(\"LearnerState\", [\"optim_state\"])\n",
        "\n",
        "\n",
        "def REINFORCE_learn(key, params, learner_state, memory):\n",
        "\n",
        "  # Get the policy gradient by using `jax.grad()` on `batched_policy_gradient_loss`\n",
        "  grad_loss = jax.grad(batched_policy_gradient_loss)(params, memory.obs, memory.action, memory.reward_to_go)\n",
        "\n",
        "  # Get param updates using gradient and optimizer\n",
        "  updates, new_optim_state = REINFORCE_OPTIMIZER.update(grad_loss, learner_state.optim_state)\n",
        "\n",
        "  # Apply updates to params\n",
        "  params = optax.apply_updates(params, updates)\n",
        "\n",
        "  return params, REINFORCELearnState(new_optim_state) # update learner state"
      ]
    },
    {
      "cell_type": "markdown",
      "metadata": {
        "id": "5an3U2NhRKgG"
      },
      "source": [
        "### Цикл обучения REINFORCE\n",
        "Теперь мы можем обучить нашего агента REINFORCE, собрав все воедино с помощью цикла обучения."
      ]
    },
    {
      "cell_type": "code",
      "execution_count": 44,
      "metadata": {
        "id": "vioIcVGsRjM5",
        "colab": {
          "base_uri": "https://localhost:8080/",
          "height": 680
        },
        "outputId": "1a570555-f619-4ac4-f2a5-cc65374f9329"
      },
      "outputs": [
        {
          "output_type": "stream",
          "name": "stdout",
          "text": [
            "Starting training. This may take up to 10 minutes to complete.\n",
            "Episode: 0\tEpisode Return: 12.0\tAverage Episode Return: 12.0\tEvaluator Episode Return: 20.5\n",
            "Episode: 100\tEpisode Return: 92.0\tAverage Episode Return: 59.5\tEvaluator Episode Return: 78.75\n",
            "Episode: 200\tEpisode Return: 129.0\tAverage Episode Return: 127.95\tEvaluator Episode Return: 155.25\n",
            "Episode: 300\tEpisode Return: 200.0\tAverage Episode Return: 169.25\tEvaluator Episode Return: 192.0\n",
            "Episode: 400\tEpisode Return: 170.0\tAverage Episode Return: 183.05\tEvaluator Episode Return: 194.375\n",
            "Episode: 500\tEpisode Return: 200.0\tAverage Episode Return: 200.0\tEvaluator Episode Return: 189.625\n",
            "Episode: 600\tEpisode Return: 200.0\tAverage Episode Return: 200.0\tEvaluator Episode Return: 200.0\n",
            "Episode: 700\tEpisode Return: 200.0\tAverage Episode Return: 187.25\tEvaluator Episode Return: 185.75\n",
            "Episode: 800\tEpisode Return: 200.0\tAverage Episode Return: 200.0\tEvaluator Episode Return: 200.0\n",
            "Episode: 900\tEpisode Return: 200.0\tAverage Episode Return: 200.0\tEvaluator Episode Return: 200.0\n",
            "Episode: 1000\tEpisode Return: 200.0\tAverage Episode Return: 200.0\tEvaluator Episode Return: 200.0\n"
          ]
        },
        {
          "output_type": "display_data",
          "data": {
            "text/plain": [
              "<Figure size 640x480 with 1 Axes>"
            ],
            "image/png": "[encoded data removed]"
          },
          "metadata": {}
        }
      ],
      "source": [
        "# JIT the choose_action and learn functions for more speed\n",
        "REINFORCE_learn_jit = jax.jit(REINFORCE_learn)\n",
        "REINFORCE_choose_action_jit = jax.jit(REINFORCE_choose_action)\n",
        "\n",
        "# Initial learn state\n",
        "REINFORCE_learn_state = REINFORCELearnState(REINFORCE_optim_state)\n",
        "\n",
        "# Run training loop\n",
        "print(\"Starting training. This may take up to 10 minutes to complete.\")\n",
        "episode_returns, evaluator_returns = run_training_loop(\n",
        "                                        env_name,\n",
        "                                        REINFORCE_params,\n",
        "                                        REINFORCE_choose_action_jit,\n",
        "                                        None, # action state not used\n",
        "                                        REINFORCE_learn_jit,\n",
        "                                        REINFORCE_learn_state,\n",
        "                                        REINFORCE_memory,\n",
        "                                        num_episodes=1001,\n",
        "                                        learn_steps_per_episode=2,\n",
        "                                        video_subdir=\"reinforce\"\n",
        "                                      )\n",
        "\n",
        "# Plot the episode returns\n",
        "plt.plot(episode_returns)\n",
        "plt.xlabel(\"Episode\")\n",
        "plt.ylabel(\"Episode Return\")\n",
        "plt.title(\"REINFORCE\")\n",
        "plt.show()"
      ]
    },
    {
      "cell_type": "code",
      "execution_count": 46,
      "metadata": {
        "id": "caKL3ngNr_Yh",
        "colab": {
          "base_uri": "https://localhost:8080/",
          "height": 288
        },
        "outputId": "9e201689-f064-41d5-fbe3-734ce2867833"
      },
      "outputs": [
        {
          "output_type": "execute_result",
          "data": {
            "text/plain": [
              "<IPython.core.display.HTML object>"
            ],
            "text/html": [
              "\n",
              "<video width=400 controls>\n",
              "      <source src=\"data:video/mp4;base64,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\" type=\"video/mp4\">\n",
              "</video>\n"
            ]
          },
          "metadata": {},
          "execution_count": 46
        }
      ],
      "source": [
        "#@title Визуализация {display-mode: \"form\"}\n",
        "#@markdown Выберите номер эпизода, менее или равного 1000, и **run this cell**.\n",
        "\n",
        "episode_number = 1000 #@param {type:\"number\"}\n",
        "\n",
        "assert (episode_number % 100) == 0, \"Episode number must be a multiple of 100 since we only record every 100th episode.\"\n",
        "assert episode_number < 1001, \"Episode number must be less than or equal to 1000\"\n",
        "\n",
        "eval_episode_number = int(episode_number / 100 * 8)\n",
        "video_path = f\"./video/reinforce/eval/rl-video-episode-{eval_episode_number}.mp4\"\n",
        "\n",
        "mp4 = open(video_path,'rb').read()\n",
        "data_url = \"data:video/mp4;base64,\" + b64encode(mp4).decode()\n",
        "HTML(\"\"\"\n",
        "<video width=400 controls>\n",
        "      <source src=\"%s\" type=\"video/mp4\">\n",
        "</video>\n",
        "\"\"\" % data_url)"
      ]
    },
    {
      "cell_type": "markdown",
      "metadata": {
        "id": "D_HHzFTOc-Qr"
      },
      "source": [
        "## 4. Q-Learning\n",
        "Другим распространенным подходом к поиску оптимальной политики в среде с использованием RL является Q-обучение."
      ]
    },
    {
      "cell_type": "markdown",
      "metadata": {
        "id": "lF1nOZrUSzhE"
      },
      "source": [
        "### Функция значения состояния-действия\n",
        "В Q-обучении агент изучает функцию, которая аппроксимирует **значение** пар состояние-действие. Под *значением* мы подразумеваем отдачу, которую вы ожидаете получить, если начнете в определенном состоянии $s_t$, выполните определенное действие $a_t$, а затем будете действовать в соответствии с определенной политикой $\\pi$ навсегда. Функция значения состояния-действия политики $\\pi$ задается как\n",
        "\n",
        "$Q_\\pi(s,a)=\\mathrm{E}_{\\tau\\sim\\pi}\\left[R(\\tau) \\mid s_0=s,\\ a_t=a\\right]$.\n",
        "\n",
        "Мы говорим, что функция значения $Q_\\pi(s,a)$ является **оптимальной** функцией значения, если политика $\\pi$ является оптимальной политикой. Обозначим функцию оптимального значения следующим образом:\n",
        "\n",
        "$Q_\\ast(s,a)=\\max \\limits_\\pi \\ \\mathrm{E}_{\\tau\\sim\\pi}\\left[R(\\tau) \\mid s_0=s,\\ a_0=a\\right]$\n",
        "\n",
        "Существует важная связь между оптимальным действием $a_\\ast$ в состоянии $s$ и оптимальной функцией значения состояния-действия $Q_\\ast$. А именно, оптимальное действие $a_\\ast$ в состоянии $s$ равно действию, которое максимизирует оптимальную функцию значения состояния-действия. Эта связь естественным образом индуцирует оптимальную политику:\n",
        "\n",
        "$\\pi_\\ast(s)=\\arg \\max \\limits_a\\ Q_\\ast(s, a)$"
      ]
    },
    {
      "cell_type": "markdown",
      "metadata": {
        "id": "H2x2tqvZSihz"
      },
      "source": [
        "### Greedy action selection (Жадный выбор действия)\n",
        "\n",
        "**Упражнение 10:** Давайте реализуем функцию, которая, учитывая вектор Q-значений, возвращает действие с наибольшим Q-значением (т. е. жадное действие).\n",
        "\n",
        "**Useful methods:**\n",
        "*   `jax.numpy.argmax` ([docs](https://jax.readthedocs.io/en/latest/_autosummary/jax.numpy.argmax.html))"
      ]
    },
    {
      "cell_type": "code",
      "execution_count": 48,
      "metadata": {
        "id": "Nn9P1YdzTIDU"
      },
      "outputs": [],
      "source": [
        "# Implement a function takes q-values as input and returns the greedy_action\n",
        "def select_greedy_action(q_values):\n",
        "\n",
        "  # YOUR CODE\n",
        "  action = jax.numpy.argmax(q_values)\n",
        "  # END YOUR CODE\n",
        "\n",
        "  return action"
      ]
    },
    {
      "cell_type": "code",
      "execution_count": 49,
      "metadata": {
        "id": "ZBzLr_G7QKXR",
        "colab": {
          "base_uri": "https://localhost:8080/"
        },
        "outputId": "2e23dd28-0058-4818-88b7-d6a81bf4668c"
      },
      "outputs": [
        {
          "output_type": "stream",
          "name": "stdout",
          "text": [
            "Looks good.\n"
          ]
        }
      ],
      "source": [
        "# @title Проверка упр 10 (run me) {display-mode: \"form\"}\n",
        "\n",
        "try:\n",
        "  q_values = jnp.array([1,1,3,4])\n",
        "  action = select_greedy_action(q_values)\n",
        "\n",
        "  if action != 3:\n",
        "    print(\"Incorrect answer, your greedy action selector looks wrong\")\n",
        "  else:\n",
        "    print(\"Looks good.\")\n",
        "except Exception as e:\n",
        "  print(\"An Error Occured: {}\".format(e))\n"
      ]
    },
    {
      "cell_type": "markdown",
      "metadata": {
        "id": "PFQUlqZ4ZyLp"
      },
      "source": [
        "### Q-Network\n",
        "В отличие от подхода с градиентом политики из предыдущего раздела, в Q-обучении и других методах RL на основе значений нам не нужна параметризация для политики, вместо этого мы параметризуем Q-функцию с помощью нейронной сети $Q_\\theta$. Мы получаем политику из Q-сети, всегда выбирая действие с *наибольшим* значением:\n",
        "\n",
        "$\\hat{\\pi}_\\theta(s)=\\arg \\max \\limits_a\\ Q_{\\theta}(s, a)$\n",
        "\n",
        "Как и ранее, мы будем использовать хайку для создания нейронной сети для аппроксимации этой Q-функции. Сеть будет принимать наблюдение в качестве входных данных, а затем выводить Q-значение для каждого из доступных действий. Таким образом, в случае CartPole выход сети будет иметь размер $2$."
      ]
    },
    {
      "cell_type": "code",
      "execution_count": 50,
      "metadata": {
        "id": "9wU1soJYZyLp"
      },
      "outputs": [],
      "source": [
        "def build_network(num_actions: int, layers=[20, 20]) -> hk.Transformed:\n",
        "  \"\"\"Factory for a simple MLP network for approximating Q-values.\"\"\"\n",
        "\n",
        "  def q_network(obs):\n",
        "    network = hk.Sequential(\n",
        "        [hk.Flatten(),\n",
        "         hk.nets.MLP(layers + [num_actions])])\n",
        "    return network(obs)\n",
        "\n",
        "  return hk.without_apply_rng(hk.transform(q_network))"
      ]
    },
    {
      "cell_type": "markdown",
      "metadata": {
        "id": "sUwG-4qTS1zx"
      },
      "source": [
        "Давайте инициализируем нашу Q-сеть и получим начальные параметры."
      ]
    },
    {
      "cell_type": "code",
      "execution_count": 51,
      "metadata": {
        "id": "1uvq5n2cS9lu",
        "colab": {
          "base_uri": "https://localhost:8080/"
        },
        "outputId": "c6961e87-27bc-4c54-a9e6-e06a16929477"
      },
      "outputs": [
        {
          "output_type": "stream",
          "name": "stdout",
          "text": [
            "Q-Learning params: dict_keys(['mlp/~/linear_0', 'mlp/~/linear_1', 'mlp/~/linear_2'])\n"
          ]
        }
      ],
      "source": [
        "# Initialise Q-network\n",
        "Q_NETWORK = build_network(num_actions=num_actions, layers=[20, 20]) # two actions\n",
        "\n",
        "dummy_obs = jnp.zeros((1,*obs_shape), jnp.float32) # a dummy observation like the one in CartPole\n",
        "\n",
        "random_key = jax.random.PRNGKey(42) # random key\n",
        "Q_NETWORK_PARAMS = Q_NETWORK.init(random_key, dummy_obs) # Get initial params\n",
        "\n",
        "print(\"Q-Learning params:\", Q_NETWORK_PARAMS.keys())"
      ]
    },
    {
      "cell_type": "markdown",
      "metadata": {
        "id": "iqCUeZfhEfyP"
      },
      "source": [
        "Прежде чем мы реализуем функцию потерь, необходимую для обучения нашей Q-сети, давайте сначала обсудим интуицию, стоящую за ней."
      ]
    },
    {
      "cell_type": "markdown",
      "metadata": {
        "id": "vbLig3uSZyLp"
      },
      "source": [
        "### The Bellman Equations (Уравнения Беллмана)\n",
        "Функция значения может быть записана рекурсивно как:\n",
        "\n",
        "$Q_{\\pi}(s, a) =\\underset{s^{\\prime} \\sim P}{\\mathrm{E}}\\left[r(s, a)+ \\underset{a^{\\prime} \\sim \\pi}{\\mathrm{E}}\\left[Q_{\\pi}\\left(s^{\\prime}, a^{\\prime}\\right)\\right]\\right]$,\n",
        "\n",
        "где $s' \\sim P$ — это сокращение для обозначения того, что следующее состояние $s'$ выбирается из функции перехода среды $P(s'\\mid s,a)$. Интуитивно это уравнение говорит, что ценность действия $a$, которое вы предприняли в состоянии $s$, равна вознаграждению $r$, которое вы ожидаете получить, плюс ценность, которую вы ожидаете получить в следующем состоянии $s`$, в котором вы окажетесь, при условии, что вы выберете свое следующее действие $a`$ с политикой $\\pi$. Уравнение Беллмана для оптимальной функции ценности выглядит так:\n",
        "\n",
        "$Q_{*}(s, a) =\\underset{s^{\\prime} \\sim P}{\\mathrm{E}}\\left[r(s, a)+\\ \\underset{a^{\\prime}}{\\max}\\ Q_{*}(s^{\\prime}, a^{\\prime})\\right]$\n",
        "\n",
        "Обратите внимание, что вместо выбора вашего следующего действия $a`$ с политикой $\\pi$ мы выбираем действие с наибольшим значением Q.\n",
        "\n",
        "Более подробное обсуждение уравнений Беллмана можно найти на сайте [OpenAI Spinning Up](https://spinningup.openai.com/en/latest/spinningup/rl_intro.html)."
      ]
    },
    {
      "cell_type": "markdown",
      "metadata": {
        "id": "DsOJi5G8ZyLp"
      },
      "source": [
        "### The Bellman Backup (Резервное копирование Беллмана)\n",
        "\n",
        "Чтобы научиться аппроксимировать оптимальную функцию Q-значения, мы можем использовать правую часть уравнения Беллмана в качестве правила обновления. Другими словами, предположим, что у нас есть Q-сеть $Q_\\theta$, аппроксимированная с использованием параметров $\\theta$, тогда мы можем итеративно обновлять параметры таким образом, что\n",
        "\n",
        "$Q_\\theta(s,a)\\leftarrow r(s, a) + \\underset{a'}{\\max}\\ Q_\\theta(s', a')$.\n",
        "\n",
        "Интуитивно это означает, что аппроксимация Q-значения действия $a$ в состоянии $s$ должна быть обновлена ​​таким образом, чтобы она была ближе к равной вознаграждению, полученному от среды $r(s, a)$, плюс значение наилучшего возможного действия в следующем состоянии $s'$. Мы можем выполнить эту оптимизацию, минимизируя разницу между левой и правой частью относительно параметров $\\theta$, используя градиентный спуск. Мы можем измерить разницу между двумя значениями, используя [квадратичную ошибку](https://en.wikipedia.org/wiki/Mean_squared_error#Loss_function).\n",
        "\n",
        "**Упражнение 11:** Реализуйте функцию квадратичной ошибки.\n",
        "\n",
        "**Полезные функции**\n",
        "* `jax.numpy.square` ([docs](https://jax.readthedocs.io/en/latest/_autosummary/jax.numpy.square.html))"
      ]
    },
    {
      "cell_type": "code",
      "execution_count": 52,
      "metadata": {
        "id": "PTto__ohZyLp"
      },
      "outputs": [],
      "source": [
        "def compute_squared_error(pred, target):\n",
        "  # YOUR CODE\n",
        "  squared_error = jax.numpy.square(pred - target)\n",
        "  # END YOUR CODE\n",
        "\n",
        "  return squared_error"
      ]
    },
    {
      "cell_type": "code",
      "execution_count": 53,
      "metadata": {
        "id": "wGhX8XTFVPVU",
        "colab": {
          "base_uri": "https://localhost:8080/"
        },
        "outputId": "2df2e3f8-531a-4a22-de11-b4ce235f9eba"
      },
      "outputs": [
        {
          "output_type": "stream",
          "name": "stdout",
          "text": [
            "Looks good.\n"
          ]
        }
      ],
      "source": [
        "#@title Проверка упр 11 {display-mode: \"form\"}\n",
        "\n",
        "try:\n",
        "  result = compute_squared_error(1, 4)\n",
        "\n",
        "  if result != 9:\n",
        "    print(\"Your implementation looks wrong.\")\n",
        "  else:\n",
        "    print(\"Looks good.\")\n",
        "except Exception as e:\n",
        "  print(\"An Error Occured: {}\".format(e))"
      ]
    },
    {
      "cell_type": "markdown",
      "metadata": {
        "id": "ycpZVkgdZyLp"
      },
      "source": [
        "**Упражнение 12:** Реализуйте функцию, которая вычисляет **цель Беллмана** (правая часть уравнения Беллмана). Если эпизод находится на последнем временном шаге (т. е. done==1.0), то цель Беллмана должна быть равна награде, без дополнительного значения в конце.\n",
        "\n",
        "**Полезные функции**\n",
        "* `jax.numpy.max` ([docs](https://jax.readthedocs.io/en/latest/_autosummary/jax.numpy.max.html))"
      ]
    },
    {
      "cell_type": "code",
      "execution_count": 59,
      "metadata": {
        "id": "961_OllWZyLp"
      },
      "outputs": [],
      "source": [
        "# Bellman target\n",
        "def compute_bellman_target(reward, done, next_q_values):\n",
        "  \"\"\"A function to compute the bellman target.\n",
        "\n",
        "  Args:\n",
        "      reward: a scalar reward.\n",
        "      done: a scalar of value either 1.0 or 0.0, indicating if the transition is a terminal one.\n",
        "      next_q_values: a vector of q_values for the next state. One for each action.\n",
        "  Returns:\n",
        "      A scalar equal to the bellman target.\n",
        "\n",
        "  \"\"\"\n",
        "  # YOUR CODE\n",
        "  gamma=1.0\n",
        "  bellman_target = reward + (1.0 - done) * gamma * jnp.max(next_q_values)\n",
        "  # END YOUR CODE\n",
        "\n",
        "  return bellman_target"
      ]
    },
    {
      "cell_type": "code",
      "execution_count": 60,
      "metadata": {
        "id": "E5RAhegOWAkC",
        "colab": {
          "base_uri": "https://localhost:8080/"
        },
        "outputId": "72e927b7-d275-40c3-b3e3-1d51d09c5f11"
      },
      "outputs": [
        {
          "output_type": "stream",
          "name": "stdout",
          "text": [
            "Looks good.\n"
          ]
        }
      ],
      "source": [
        "#@title Проверка упр 12 {display-mode: \"form\"}\n",
        "\n",
        "try:\n",
        "  # not done\n",
        "  result1 = compute_bellman_target(1, 0.0, np.array([3,2], \"float32\"))\n",
        "\n",
        "  # done\n",
        "  result2 = compute_bellman_target(1, 1.0, np.array([3,2], \"float32\"))\n",
        "\n",
        "  if result1 != 4 or result2 != 1:\n",
        "    print(\"Your implementation looks wrong.\")\n",
        "  else:\n",
        "    print(\"Looks good.\")\n",
        "except Exception as e:\n",
        "  print(\"An Error Occured: {}\".format(e))"
      ]
    },
    {
      "cell_type": "markdown",
      "metadata": {
        "id": "8sIjrHSJZyLq"
      },
      "source": [
        "Теперь мы можем объединить эти две функции, чтобы вычислить потерю для Q-обучения. Потери Q-обучения равны квадрату разницы между прогнозируемым значением Q действия и его соответствующей целью Беллмана.\n",
        "\n",
        "**Упражнение 13:** Реализуйте функцию потери Q-обучения."
      ]
    },
    {
      "cell_type": "code",
      "execution_count": 62,
      "metadata": {
        "id": "LJY_kpFcZyLq"
      },
      "outputs": [],
      "source": [
        "def q_learning_loss(q_values, action, reward, done, next_q_values):\n",
        "    \"\"\"Implementation of the Q-learning loss.T\n",
        "\n",
        "    Args:\n",
        "        q_values: a vector of Q-values, one for each action.\n",
        "        action: an integer, giving the action that was chosen. q_values[action] is the value of the chose action.\n",
        "        done: is a scalar that indicates if this is a terminal transition.\n",
        "        next_q_values: a vector of Q-values in the next state.\n",
        "    Returns:\n",
        "        The squared difference between the q_value of the chosen action and the bellman target.\n",
        "    \"\"\"\n",
        "    # YOUR CODE\n",
        "    chosen_action_q_value = q_values[action] # q_value of action, use array indexing\n",
        "    bellman_target = compute_bellman_target(reward, done, next_q_values)\n",
        "    squared_error = compute_squared_error(chosen_action_q_value, bellman_target)\n",
        "    # END YOUR CODE\n",
        "\n",
        "    return squared_error"
      ]
    },
    {
      "cell_type": "code",
      "execution_count": 63,
      "metadata": {
        "id": "1aZRn1qaWx2M",
        "colab": {
          "base_uri": "https://localhost:8080/"
        },
        "outputId": "ba9898bb-8524-4632-c1df-7f13e7ff0902"
      },
      "outputs": [
        {
          "output_type": "stream",
          "name": "stdout",
          "text": [
            "Looks good.\n"
          ]
        }
      ],
      "source": [
        "#@title Проверка упр 13 {display-mode: \"form\"}\n",
        "\n",
        "try:\n",
        "  result = q_learning_loss(np.array([3,2], \"float32\"), 1, 2, 0.0, np.array([3,2], \"float32\"))\n",
        "\n",
        "  if result != 9.0:\n",
        "    print(\"Your implementation looks wrong.\")\n",
        "  else:\n",
        "    print(\"Looks good.\")\n",
        "except Exception as e:\n",
        "  print(\"An Error Occured: {}\".format(e))"
      ]
    },
    {
      "cell_type": "markdown",
      "metadata": {
        "id": "b4YnSUfJZyLq"
      },
      "source": [
        "### Target Q-network (Целевая Q-сеть)\n",
        "Обратите внимание: когда мы вычисляем цель Беллмана, мы используем нашу Q-сеть $Q_\\theta$ для вычисления значения для следующего состояния $s_t$. По сути, мы используем наше последнее приближение Q-функции для вычисления цели нашего следующего приближения. Использование приближения для вычисления цели для вашего следующего приближения называется самозагрузкой. К сожалению, если мы наивно делаем такую ​​самозагрузку, это может сделать обучение нейронной сети очень нестабильным. Чтобы смягчить это, мы можем вместо этого использовать другой набор параметров $\\hat{\\theta}$ для вычисления значений в состоянии $s_{t+1}$. Мы будем сохранять параметры $\\hat{\\theta}$ фиксированными и только периодически обновлять их, чтобы они были равны последним онлайн-параметрам $\\theta$ каждые пару шагов обучения *(скажем, 100)*. Это позволяет сохранять фиксированные цели Беллмана для пары шагов обучения, чтобы помочь снизить нестабильность из-за самозагрузки.\n",
        "\n",
        "Нам нужно будет отслеживать последние (онлайн) параметры, а также параметры целевых сетей. Давайте создадим `NamedTuple` для хранения этих двух значений. Нам также нужно будет отслеживать количество шагов обучения, которые мы сделали, чтобы знать, когда обновлять целевую сеть. Давайте сохраним `count` шагов обучения в `learn_state`."
      ]
    },
    {
      "cell_type": "code",
      "execution_count": 64,
      "metadata": {
        "id": "DvZqUKmq6L7k"
      },
      "outputs": [],
      "source": [
        "# Store online and target parameters\n",
        "QLearnParams = collections.namedtuple(\"Params\", [\"online\", \"target\"])\n",
        "\n",
        "# Q-learn-state\n",
        "QLearnState = collections.namedtuple(\"LearnerState\", [\"count\", \"optim_state\"])"
      ]
    },
    {
      "cell_type": "markdown",
      "metadata": {
        "id": "CJWH2_kNZsau"
      },
      "source": [
        "Мы снова будем использовать Optax для оптимизации нашей нейронной сети в JAX. Мы сохраняем состояние оптимизатора в `learn_state` выше. Давайте теперь создадим экземпляр оптимизатора и добавим начальные параметры Q-сети в объект `QLearnParams`."
      ]
    },
    {
      "cell_type": "code",
      "execution_count": 65,
      "metadata": {
        "id": "HwqKTN6BaAXE"
      },
      "outputs": [],
      "source": [
        "# Initialise Q-network optimizer\n",
        "Q_LEARN_OPTIMIZER = optax.adam(3e-4) # learning rate\n",
        "\n",
        "Q_LEARN_OPTIM_STATE = Q_LEARN_OPTIMIZER.init(Q_NETWORK_PARAMS) # initial optim state\n",
        "\n",
        "# Create Learn State\n",
        "Q_LEARNING_LEARN_STATE = QLearnState(0, Q_LEARN_OPTIM_STATE) # count set to zero initially\n",
        "\n",
        "# Add initial Q-network weights to QLearnParams object\n",
        "Q_LEARNING_PARAMS = QLearnParams(online=Q_NETWORK_PARAMS, target=Q_NETWORK_PARAMS) # target equal to online"
      ]
    },
    {
      "cell_type": "markdown",
      "metadata": {
        "id": "xj89M8LgZlFe"
      },
      "source": [
        "Теперь мы можем реализовать простую функцию, которая обновляет параметры целевых сетей, чтобы они соответствовали последним онлайн-параметрам каждые 100 шагов обучения."
      ]
    },
    {
      "cell_type": "code",
      "execution_count": 66,
      "metadata": {
        "id": "SKrg_3rO6cCL"
      },
      "outputs": [],
      "source": [
        "def update_target_params(learn_state, online_weights, target_weights):\n",
        "  \"\"\"A function to update target params every 100 training steps\"\"\"\n",
        "\n",
        "  target = jax.lax.cond(\n",
        "      jax.numpy.mod(learn_state.count, 100) == 0,\n",
        "      lambda x, y: x,\n",
        "      lambda x, y: y,\n",
        "      online_weights,\n",
        "      target_weights\n",
        "  )\n",
        "\n",
        "  params = QLearnParams(online_weights, target)\n",
        "\n",
        "  return params"
      ]
    },
    {
      "cell_type": "markdown",
      "metadata": {
        "id": "KoiaYSo9ZyLq"
      },
      "source": [
        "### Q-learning loss (Функция потери Q-обучения)\n",
        "Теперь у нас есть все необходимое для реализации функции `q_learn`, которая принимает некоторую партию переходов и выполняет шаг Q-обучения для обновления параметров сети. Но сначала мы используем `jax.vmap` для изменения функции `q_learning_loss` так, чтобы она принимала партии переходов. Кроме того, мы вычислим Q-значения, передавая наблюдения через `Q_NETWORK`, и целевые Q-значения, используя целевые параметры `Q_NETWORK`."
      ]
    },
    {
      "cell_type": "code",
      "execution_count": 67,
      "metadata": {
        "id": "hnrsGppWZyLq"
      },
      "outputs": [],
      "source": [
        "def batched_q_learning_loss(online_params, target_params, obs, actions, rewards, next_obs, dones):\n",
        "    q_values = Q_NETWORK.apply(online_params, obs) # use the online parameters\n",
        "    next_q_values = Q_NETWORK.apply(target_params, next_obs) # use the target parameters\n",
        "    squared_error = jax.vmap(q_learning_loss)(q_values, actions, rewards, dones, next_q_values) # vmap q_learning_loss\n",
        "    mean_squared_error = jnp.mean(squared_error) # mean squared error over batch\n",
        "    return mean_squared_error"
      ]
    },
    {
      "cell_type": "markdown",
      "metadata": {
        "id": "CU8vo9ZebnEa"
      },
      "source": [
        "Теперь мы можем создать функцию `q_learn`, которая вычисляет градиент `batched_q_learning_loss`, а затем использует оптимизатор Optax для обновления весов сети, а затем, наконец (возможно), обновляет целевые параметры."
      ]
    },
    {
      "cell_type": "code",
      "execution_count": 68,
      "metadata": {
        "id": "6BYoX2W_ZyLr"
      },
      "outputs": [],
      "source": [
        "def q_learn(rng, params, learner_state, memory):\n",
        "  # Compute gradients\n",
        "  grad_loss = jax.grad(batched_q_learning_loss)(params.online, params.target, memory.obs,\n",
        "                                          memory.action, memory.reward,\n",
        "                                          memory.next_obs, memory.done,\n",
        "                                          ) # jax.grad\n",
        "\n",
        "  # Get updates\n",
        "  updates, opt_state = Q_LEARN_OPTIMIZER.update(grad_loss, learner_state.optim_state)\n",
        "\n",
        "  # Apply them\n",
        "  new_weights = optax.apply_updates(params.online, updates)\n",
        "\n",
        "  # Maybe update target network\n",
        "  params = update_target_params(learner_state, new_weights, params.target)\n",
        "\n",
        "  # Increment learner step counter\n",
        "  learner_state = QLearnState(learner_state.count + 1, opt_state)\n",
        "\n",
        "  return params, learner_state"
      ]
    },
    {
      "cell_type": "markdown",
      "metadata": {
        "id": "VpZsKHssZyLq"
      },
      "source": [
        "### Replay Buffer (Буфер воспроизведения)\n",
        "Для Q-обучения нам понадобится память агента, которая хранит целые переходы: `obs`, `action`, `reward`, `next_obs`, `done`. Когда мы извлекаем переходы из памяти, они должны выбираться случайным образом из всех переходов, собранных до сих пор. В RL мы часто называем такой модуль **буфером воспроизведения**.\n",
        "\n",
        "Одним из преимуществ использования такого буфера воспроизведения является то, что опыт можно повторно использовать несколько раз для обучения, в отличие от алгоритма градиента политики REINFORCE, где мы отбрасывали воспоминания после их использования для обучения."
      ]
    },
    {
      "cell_type": "code",
      "execution_count": 69,
      "metadata": {
        "id": "8tv5dUH6ZyLr"
      },
      "outputs": [],
      "source": [
        "class TransitionMemory(object):\n",
        "  \"\"\"A simple Python replay buffer.\"\"\"\n",
        "\n",
        "  def __init__(self, max_size=10_000, batch_size=256):\n",
        "    self.batch_size = batch_size\n",
        "    self.buffer = collections.deque(maxlen=max_size)\n",
        "\n",
        "  def push(self, transition):\n",
        "\n",
        "    # add transition to the replay buffer\n",
        "    self.buffer.append(\n",
        "        (transition.obs, transition.action, transition.reward,\n",
        "          transition.next_obs, transition.done)\n",
        "    )\n",
        "\n",
        "\n",
        "  def is_ready(self):\n",
        "    return self.batch_size <= len(self.buffer)\n",
        "\n",
        "  def sample(self):\n",
        "    # Randomly sample a batch of transitions from the buffer\n",
        "    random_replay_sample = random.sample(self.buffer, self.batch_size)\n",
        "\n",
        "    # Batch the transitions together\n",
        "    obs_batch, action_batch, reward_batch, next_obs_batch, done_batch = zip(*random_replay_sample)\n",
        "\n",
        "    return Transition(\n",
        "        np.stack(obs_batch).astype(\"float32\"),\n",
        "        np.asarray(action_batch).astype(\"int32\"),\n",
        "        np.asarray(reward_batch).astype(\"float32\"),\n",
        "        np.stack(next_obs_batch).astype(\"float32\"),\n",
        "        np.asarray(done_batch).astype(\"float32\")\n",
        "    )\n",
        "\n",
        "# Instantiate the memory\n",
        "Q_LEARNING_MEMORY = TransitionMemory(max_size=50_000, batch_size=256)"
      ]
    },
    {
      "cell_type": "markdown",
      "metadata": {
        "id": "XbHk03VVUHAV"
      },
      "source": [
        "### Случайное исследование\n",
        "У нас почти есть все, что нужно для функционирующего агента Q-обучения. Но одна проблема заключается в том, что если мы всегда выбираем действие с наивысшим значением Q, то политика агента будет полностью [детерминированной](https://www.quora.com/What-is-the-intuitive-difference-between-a-stochastic-model-and-a-deterministic-model). Это означает, что агент всегда будет выбирать одну и ту же стратегию. Это может представлять проблему, поскольку в начале обучения Q-сеть будет очень неточной (т. е. плохой аппроксимацией истинной Q-функции). Таким образом, агент будет последовательно выбирать неоптимальные действия. Более того, агент никогда не отклонится от своей неоптимальной стратегии и никогда не обнаружит новые, потенциально более полезные действия. В результате Q-сеть остается неточной. В идеале агент должен опробовать много разных стратегий, чтобы он мог наблюдать результаты (вознаграждения) своих действий в разных состояниях и таким образом улучшить приближение Q-функции.\n",
        "\n",
        "Один простой способ гарантировать, что агент опробует много разных действий, — позволить ему периодически выбирать некоторые случайные действия вместо жадного (лучшего) действия все время.\n",
        "\n",
        "**Упражнение 14:** Реализуйте функцию, которая, учитывая количество возможных (дискретных) действий, возвращает случайное действие.\n",
        "\n",
        "**Полезные методы:**\n",
        "\n",
        "*  `jax.random.randint` ([docs](https://jax.readthedocs.io/en/latest/_autosummary/jax.random.randint.html))"
      ]
    },
    {
      "cell_type": "code",
      "execution_count": 70,
      "metadata": {
        "id": "uUKkpMLXUtko"
      },
      "outputs": [],
      "source": [
        "def select_random_action(key, num_actions):\n",
        "\n",
        "    # YOUR CODE\n",
        "    action = jax.random.randint(key, shape=(), minval=0, maxval=num_actions)\n",
        "    # END YOUR CODE\n",
        "\n",
        "    return action"
      ]
    },
    {
      "cell_type": "code",
      "execution_count": 71,
      "metadata": {
        "id": "NO6va6S2Y40E",
        "colab": {
          "base_uri": "https://localhost:8080/"
        },
        "outputId": "fd7d0a5f-f377-45d5-8595-a503dbc35582"
      },
      "outputs": [
        {
          "output_type": "stream",
          "name": "stdout",
          "text": [
            "Looks good.\n"
          ]
        }
      ],
      "source": [
        "#@title Проверка упр 14 {display-mode: \"form\"}\n",
        "\n",
        "try:\n",
        "  random_key1 = random_key = jax.random.PRNGKey(6) # random key\n",
        "  random_key2 = random_key = jax.random.PRNGKey(1000) # random key\n",
        "  result1 = select_random_action(random_key1, 2)\n",
        "  result2 = select_random_action(random_key2, 2)\n",
        "\n",
        "  if result1 != 1 or result2 != 0:\n",
        "    print(\"Your implementation looks wrong.\")\n",
        "  else:\n",
        "    print(\"Looks good.\")\n",
        "except:\n",
        "  print(\"Your implementation looks wrong.\")"
      ]
    },
    {
      "cell_type": "markdown",
      "metadata": {
        "id": "8-kKDFT6XU6y"
      },
      "source": [
        "### $\\varepsilon$-greedy action selection (эпсилон жадный выбор действия)\n",
        "В начале обучения, когда точность Q-сети низкая, агенту стоит в основном совершать случайные действия, чтобы он мог узнать, насколько хороши/плохи действия. Однако по мере повышения точности Q-сети агент должен начать совершать меньше случайных действий и вместо этого начать выбирать жадные действия относительно Q-значений. Выбор лучших действий с учетом текущей Q-сети называется **эксплуатацией**. В RL мы часто называем отношение случайных и жадных действий **эпсилоном** $\\varepsilon$. Эпсилон обычно представляет собой десятичное значение в интервале $[0,1]$, где, например, $\\varepsilon=0.4$ означает, что агент выбирает случайное действие в 40% случаев, а жадное действие — в 60% случаев. В RL принято линейно уменьшать значение эпсилон с течением времени, так что агент становится все более жадным по мере повышения точности его Q-сети в процессе обучения.\n",
        "\n",
        "**Упражнение 15:** Реализуйте функцию, которая принимает количество временных шагов в качестве входных данных и возвращает текущее значение эпсилон."
      ]
    },
    {
      "cell_type": "code",
      "execution_count": 75,
      "metadata": {
        "id": "_qejnbCocurG"
      },
      "outputs": [],
      "source": [
        "EPSILON_DECAY_TIMESTEPS = 3000 # decay epsilon over 3000 timesteps\n",
        "EPSILON_MIN = 0.1 # 10% exploration"
      ]
    },
    {
      "cell_type": "code",
      "execution_count": 78,
      "metadata": {
        "id": "5ujSbssCZyLs"
      },
      "outputs": [],
      "source": [
        "def get_epsilon(num_timesteps):\n",
        "  # YOUR CODE\n",
        "  epsilon = 1.0 - (num_timesteps/EPSILON_DECAY_TIMESTEPS) # decay epsilon\n",
        "\n",
        "  epsilon = jax.lax.select(\n",
        "      epsilon < EPSILON_MIN,\n",
        "      EPSILON_MIN, # if less than min then set to min\n",
        "      epsilon # else don't change epsilon\n",
        "  )\n",
        "  # END YOUR CODE\n",
        "\n",
        "  return epsilon"
      ]
    },
    {
      "cell_type": "code",
      "execution_count": 79,
      "metadata": {
        "id": "hvu4zA64aUou",
        "colab": {
          "base_uri": "https://localhost:8080/"
        },
        "outputId": "4a63e383-0b6c-44cb-a950-e44b3be773fb"
      },
      "outputs": [
        {
          "output_type": "stream",
          "name": "stdout",
          "text": [
            "Your function looks correct.\n"
          ]
        }
      ],
      "source": [
        "#@title Проверка упр 15 {display-mode: \"form\"}\n",
        "def check_get_epsilon(get_epsilon):\n",
        "  try:\n",
        "    result1 = get_epsilon(10)\n",
        "    result2 = get_epsilon(5_010)\n",
        "\n",
        "    if result1 != 0.99666667 or result2 != 0.1:\n",
        "      print(\"Your function looks wrong.\")\n",
        "    else:\n",
        "      print(\"Your function looks correct.\")\n",
        "  except:\n",
        "    print(\"Your function looks wrong.\")\n",
        "\n",
        "check_get_epsilon(get_epsilon)\n"
      ]
    },
    {
      "cell_type": "markdown",
      "metadata": {
        "id": "t56oo58TVQ_s"
      },
      "source": [
        "**Упражнение 16:** Теперь давайте объединим эти функции для выполнения эпсилон-жадного выбора действия."
      ]
    },
    {
      "cell_type": "code",
      "execution_count": 81,
      "metadata": {
        "id": "NlQx8K4vKUXj"
      },
      "outputs": [],
      "source": [
        "def select_epsilon_greedy_action(key, q_values, num_timesteps):\n",
        "    num_actions = len(q_values) # number of available actions\n",
        "\n",
        "    # YOUR CODE HERE\n",
        "    epsilon = get_epsilon(num_timesteps) # get epsilon value\n",
        "\n",
        "    should_explore = jax.random.uniform(key, shape=()) < epsilon # hint: a boolean expression to check if some random number is less than epsilon\n",
        "\n",
        "    explore_action = select_random_action(key, num_actions)\n",
        "    greedy_action = jax.numpy.argmax(q_values)\n",
        "\n",
        "    action = jax.lax.select(\n",
        "        should_explore,\n",
        "        explore_action, # if should explore\n",
        "        greedy_action # if should be greedy\n",
        "    )\n",
        "    # END YOUR CODE\n",
        "\n",
        "    return action"
      ]
    },
    {
      "cell_type": "code",
      "execution_count": 82,
      "metadata": {
        "id": "mkVU2a5e7P6b",
        "colab": {
          "base_uri": "https://localhost:8080/"
        },
        "outputId": "b457d620-dc75-4c27-ef92-4d88aac89a01"
      },
      "outputs": [
        {
          "output_type": "stream",
          "name": "stdout",
          "text": [
            "Looks correct!\n"
          ]
        }
      ],
      "source": [
        "#@title Проверка упражнения 16 {display-mode: \"form\"}\n",
        "\n",
        "try:\n",
        "  rng = hk.PRNGSequence(jax.random.PRNGKey(42))\n",
        "  dummy_q_values = jnp.array([0,1], jnp.float32)\n",
        "  num_timesteps = 5010 # very greedy\n",
        "  actions1 = []\n",
        "  for i in range(10):\n",
        "      actions1.append(int(select_epsilon_greedy_action(next(rng), dummy_q_values, num_timesteps)))\n",
        "\n",
        "  num_timesteps = 0 # completly random\n",
        "  actions2 = []\n",
        "  for i in range(10):\n",
        "      actions2.append(int(select_epsilon_greedy_action(next(rng), dummy_q_values, num_timesteps)))\n",
        "\n",
        "  if actions1 != [1, 1, 0, 1, 1, 0, 1, 1, 1, 1] or actions2 != [0, 0, 0, 1, 1, 1, 1, 0, 0, 0]:\n",
        "    print(\"Looks like something might be incorrect!\")\n",
        "  else:\n",
        "    print(\"Looks correct!\")\n",
        "except:\n",
        "  print(\"Looks like something might be incorrect!\")"
      ]
    },
    {
      "cell_type": "markdown",
      "metadata": {
        "id": "y5W23MnobN9x"
      },
      "source": [
        "### Действие выбора Q-learning\n",
        "\n",
        "Теперь у нас есть все необходимое для создания функции `q_learning_select_action`. Мы будем использовать `actor_state` для хранения счетчика, который отслеживает текущее количество временных шагов. Мы можем использовать счетчик для уменьшения нашего значения `epsilon`."
      ]
    },
    {
      "cell_type": "code",
      "execution_count": 83,
      "metadata": {
        "id": "81TysLc0RjM6"
      },
      "outputs": [],
      "source": [
        "# Actor state stores the current number of timesteps\n",
        "QActorState = collections.namedtuple(\"ActorState\", [\"count\"])\n",
        "\n",
        "def q_learning_select_action(key, params, actor_state, obs, evaluation=False):\n",
        "    obs = jnp.expand_dims(obs, axis=0) # add dummy batch dim\n",
        "    q_values = Q_NETWORK.apply(params.online, obs)[0] # remove batch dim\n",
        "\n",
        "    action = select_epsilon_greedy_action(key, q_values, actor_state.count)\n",
        "    greedy_action = select_greedy_action(q_values)\n",
        "\n",
        "    action = jax.lax.select(\n",
        "        evaluation,\n",
        "        greedy_action,\n",
        "        action\n",
        "    )\n",
        "\n",
        "    next_actor_state = QActorState(actor_state.count + 1) # increment timestep counter\n",
        "\n",
        "    return action, next_actor_state\n",
        "\n",
        "Q_LEARNING_ACTOR_STATE = QActorState(0) # counter set to zero"
      ]
    },
    {
      "cell_type": "markdown",
      "metadata": {
        "id": "z884-1oNRGEr"
      },
      "source": [
        "### Обучение\n",
        "Теперь мы можем собрать все вместе, используя цикл агент-среда. Но сначала давайте объединим функцию выбора действия и функцию обучения для дополнительной скорости."
      ]
    },
    {
      "cell_type": "code",
      "execution_count": 84,
      "metadata": {
        "id": "xbdHDbd1RjM8",
        "colab": {
          "base_uri": "https://localhost:8080/",
          "height": 680
        },
        "outputId": "e4d88580-1f99-46ab-83b5-27af72149b80"
      },
      "outputs": [
        {
          "output_type": "stream",
          "name": "stdout",
          "text": [
            "Starting training. This may take up to 8 minutes to complete.\n",
            "Episode: 0\tEpisode Return: 16.0\tAverage Episode Return: 16.0\tEvaluator Episode Return: 9.5\n",
            "Episode: 100\tEpisode Return: 13.0\tAverage Episode Return: 13.6\tEvaluator Episode Return: 9.25\n",
            "Episode: 200\tEpisode Return: 14.0\tAverage Episode Return: 9.7\tEvaluator Episode Return: 10.375\n",
            "Episode: 300\tEpisode Return: 10.0\tAverage Episode Return: 10.95\tEvaluator Episode Return: 9.25\n",
            "Episode: 400\tEpisode Return: 12.0\tAverage Episode Return: 11.6\tEvaluator Episode Return: 9.5\n",
            "Episode: 500\tEpisode Return: 59.0\tAverage Episode Return: 76.5\tEvaluator Episode Return: 73.625\n",
            "Episode: 600\tEpisode Return: 172.0\tAverage Episode Return: 129.9\tEvaluator Episode Return: 160.5\n",
            "Episode: 700\tEpisode Return: 143.0\tAverage Episode Return: 150.9\tEvaluator Episode Return: 168.125\n",
            "Episode: 800\tEpisode Return: 200.0\tAverage Episode Return: 146.2\tEvaluator Episode Return: 173.625\n",
            "Episode: 900\tEpisode Return: 200.0\tAverage Episode Return: 185.95\tEvaluator Episode Return: 200.0\n",
            "Episode: 1000\tEpisode Return: 14.0\tAverage Episode Return: 13.3\tEvaluator Episode Return: 14.125\n"
          ]
        },
        {
          "output_type": "display_data",
          "data": {
            "text/plain": [
              "<Figure size 640x480 with 1 Axes>"
            ],
            "image/png": "[encoded data removed]"
          },
          "metadata": {}
        }
      ],
      "source": [
        "# Jit functions\n",
        "q_learning_select_action_jit = jax.jit(q_learning_select_action)\n",
        "q_learn_jit = jax.jit(q_learn)\n",
        "\n",
        "# Run environment loop\n",
        "print(\"Starting training. This may take up to 8 minutes to complete.\")\n",
        "episode_returns, evaluator_returns = run_training_loop(\n",
        "                                        env_name,\n",
        "                                        Q_LEARNING_PARAMS,\n",
        "                                        q_learning_select_action_jit,\n",
        "                                        Q_LEARNING_ACTOR_STATE,\n",
        "                                        q_learn_jit,\n",
        "                                        Q_LEARNING_LEARN_STATE,\n",
        "                                        Q_LEARNING_MEMORY,\n",
        "                                        num_episodes=1001,\n",
        "                                        train_every_timestep=True, # do learning after every timestep\n",
        "                                        video_subdir=\"q_learning\"\n",
        "                                    )\n",
        "\n",
        "plt.plot(episode_returns)\n",
        "plt.xlabel(\"Episodes\")\n",
        "plt.ylabel(\"Episode Return\")\n",
        "plt.title(\"Deep Q-Learning\")\n",
        "plt.show()"
      ]
    },
    {
      "cell_type": "markdown",
      "metadata": {
        "id": "2k0-41wbpFDE"
      },
      "source": [
        "На этом этапе, как мы надеемся, приближенная Q-функция сошлась к приемлемой политике балансировки шеста в задаче CartPole."
      ]
    },
    {
      "cell_type": "code",
      "execution_count": 85,
      "metadata": {
        "id": "t4v0ZbB4FQUs",
        "colab": {
          "base_uri": "https://localhost:8080/",
          "height": 288
        },
        "outputId": "b0dde50f-1cae-4463-8aaa-0cbc0c24070b",
        "cellView": "form"
      },
      "outputs": [
        {
          "output_type": "execute_result",
          "data": {
            "text/plain": [
              "<IPython.core.display.HTML object>"
            ],
            "text/html": [
              "\n",
              "<video width=400 controls>\n",
              "      <source src=\"data:video/mp4;base64,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\" type=\"video/mp4\">\n",
              "</video>\n"
            ]
          },
          "metadata": {},
          "execution_count": 85
        }
      ],
      "source": [
        "#@title Визуализация политики\n",
        "#@markdown Выберите номер эпизода, кратный 100 и меньший или равный 1000, и **запустите эту ячейку**.\n",
        "episode_number = 600 #@param {type:\"number\"}\n",
        "\n",
        "assert (episode_number % 100) == 0, \"Episode number must be a multiple of 100 since we only record every 100th episode.\"\n",
        "assert episode_number < 1001, \"Episode number must be less than or equal to 1000\"\n",
        "\n",
        "\n",
        "eval_episode_number = int(episode_number / 100 * 8)\n",
        "video_path = f\"./video/q_learning/eval/rl-video-episode-{eval_episode_number}.mp4\"\n",
        "\n",
        "mp4 = open(video_path,'rb').read()\n",
        "data_url = \"data:video/mp4;base64,\" + b64encode(mp4).decode()\n",
        "HTML(\"\"\"\n",
        "<video width=400 controls>\n",
        "      <source src=\"%s\" type=\"video/mp4\">\n",
        "</video>\n",
        "\"\"\" % data_url)"
      ]
    },
    {
      "cell_type": "markdown",
      "metadata": {
        "id": "fV3YG7QOZD-B"
      },
      "source": [
        "Кроме того, существует множество алгоритмов RL, которые вносят существенные улучшения в REINFORCE и Deep Q-Learning. См. эти ресурсы:\n",
        "* [REINFORCE с базовым уровнем](https://spinningup.openai.com/en/latest/spinningup/rl_intro3.html#baselines-in-policy-gradients)\n",
        "* [Double Deep Q-Network](https://arxiv.org/pdf/1509.06461.pdf)\n",
        "* [Proximal Policy Optimisation (PPO)](https://arxiv.org/pdf/1707.06347.pdf)\n",
        "\n",
        "Если вы ищете более углубленный онлайн-курс по RL, вы можете ознакомиться с этими курсами:\n",
        "* [Reinforcement Learning Foundations on LinkedIn Learning](https://www.linkedin.com/learning/reinforcement-learning-foundations) (создано одним из наших собственных преподавателей, Хаулатом Абдулхакимом)\n",
        "* [Введение в Reinforcement Learning on FreeCodeCamp](https://www.freecodecamp.org/news/an-introduction-to-reinforcement-learning-4339519de419/)\n",
        "* [Специализация обучения с подкреплением на Coursera](https://www.coursera.org/specializations/reinforcement-learning)\n",
        "\n",
        "Наконец, самый влиятельный учебник по обучению с подкреплением доступен бесплатно онлайн:\n",
        "* [Обучение с подкреплением: введение](http://incompleteideas.net/book/the-book-2nd.html) Ричарда С. Саттона и Эндрю Г. Барто\n",
        "\n",
        "\n",
        "**Ссылки:**\n",
        "\n",
        "* [OpenAI Spinning Up](https://spinningup.openai.com/en/latest/)\n",
        "* [Deep Q-Network]()"
      ]
    },
    {
      "cell_type": "code",
      "source": [],
      "metadata": {
        "id": "6V47Vd_i3qk7"
      },
      "execution_count": null,
      "outputs": []
    }
  ],
  "metadata": {
    "colab": {
      "provenance": [],
      "gpuType": "T4"
    },
    "kernelspec": {
      "display_name": "Python 3",
      "name": "python3"
    },
    "language_info": {
      "codemirror_mode": {
        "name": "ipython",
        "version": 3
      },
      "file_extension": ".py",
      "mimetype": "text/x-python",
      "name": "python",
      "nbconvert_exporter": "python",
      "pygments_lexer": "ipython3",
      "version": "3.8.13"
    },
    "vscode": {
      "interpreter": {
        "hash": "0f35138c66f99be0fd7a1210bb4aa94a6fbaa5f29d51ad43aec0e0ea0ff050f0"
      }
    },
    "accelerator": "GPU"
  },
  "nbformat": 4,
  "nbformat_minor": 0
}